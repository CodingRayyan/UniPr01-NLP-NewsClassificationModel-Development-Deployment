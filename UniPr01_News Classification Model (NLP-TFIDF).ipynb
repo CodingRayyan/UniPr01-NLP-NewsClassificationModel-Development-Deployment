{
  "cells": [
    {
      "cell_type": "markdown",
      "metadata": {
        "id": "oCr5BNVnBNHM"
      },
      "source": [
        "<br>\n",
        "<h1 style=\"text-align: center; font-family: arial black; color: red\"><b></b>AI Domain: Natural Language Processing (NLP)<b></b></h1>\n",
        "<h2 style=\"text-align: center; color: red\"><b>Project: News Headline Classifier using TF-IDF<b></h2>\n",
        "<br>\n",
        "\n",
        "<h4 style = \"text-align: left; color: red\">Start Date: 15 March, 2025</h4>\n",
        "<h4 style = \"text-align: left; color: red\">End Date: 18 March, 2025</h4>\n",
        "<h4 style = \"text-align: left; color: red\">Submitted to: Engr. Bushra Shaikh</h4>\n",
        "\n",
        "<br>\n",
        "\n",
        "<h3 style=\"text-align: center;\"><b>Group Members<b></h3>\n",
        "\n",
        "<table style=\"width: 100%; border-collapse: collapse; text-align: left;\">\n",
        "  <thead>\n",
        "    <tr style=\"background-color: yellow; color: black\">\n",
        "      <th style=\"border: 1px solid #ddd; padding: 8px; text-align: center;\">Name</th>\n",
        "      <th style=\"border: 1px solid #ddd; padding: 8px; text-align: center;\">ID</th>\n",
        "    </tr>\n",
        "  </thead>\n",
        "  <tbody>\n",
        "    <tr style=\"background-color: gray;\">\n",
        "      <td style=\"border: 1px solid #ddd; padding: 8px; text-align: center\">Rayyan Ahmed</td>\n",
        "      <td style=\"border: 1px solid #ddd; padding: 8px; text-align: center;\">22F-BSAI-11</td>\n",
        "    </tr>\n",
        "    <tr style=\"background-color: gray;\">\n",
        "      <td style=\"border: 1px solid #ddd; padding: 8px; text-align: center\">Wajahat Tariq</td>\n",
        "      <td style=\"border: 1px solid #ddd; padding: 8px; text-align: center;\">22F-BSAI-17</td>\n",
        "    </tr>\n",
        "    <tr style=\"background-color: gray;\">\n",
        "      <td style=\"border: 1px solid #ddd; padding: 8px; text-align: center\">Muhammed Sami</td>\n",
        "      <td style=\"border: 1px solid #ddd; padding: 8px; text-align: center;\">22F-BSAI-43</td>\n",
        "    </tr>\n",
        "  </tbody>\n",
        "</table>\n",
        "\n",
        "<br>\n",
        "\n",
        "# ________________________________________________________________________________________\n",
        "<br>\n",
        "\n",
        "<h3 style=\"text-align: center;\"><b>Project Idea<b></h3>\n",
        "\n",
        "<br>\n",
        "\n",
        "- **Load Data:** Import the dataset using Pandas and read it into a DataFrame.\n",
        "- **Clean Data:** Remove duplicates, null values, special characters, stopwords, and apply text preprocessing like stemming or lemmatization.\n",
        "- **Visualize Data:** Analyze category distributions, generate word clouds, and plot frequent words using bar charts.\n",
        "- **Vectorize Data:** Convert text into numerical format using TF-IDF Vectorizer and experiment with n-grams.\n",
        "- **Extract Keywords:** Identify important words from headlines using TF-IDF scores.\n",
        "- **Pipeline Module-Predict Using ML Algorithms:** Through Pipeline Module, train six different algorithms like Logistic Regression, SVM, AdaBoost, Naïve Bayes, KNN, Decision Tree Classifier.\n",
        "- **Save Best Model:** Choose the model with the highest accuracy and save it using joblib or pickle.\n",
        "- **Deploy Model:** Build a web app using Streamlit or FastAPI and deploy it on a cloud platform like AWS, Azure, or Render. 🚀\n",
        "\n",
        "<br>\n",
        "\n",
        "# ________________________________________________________________________________________\n",
        "<br>\n",
        "\n",
        "<h3 style=\"text-align: center;\"><b>Problem Statement</b></h3>\n",
        "\n",
        "<br>\n",
        "\n",
        "- In the digital era, vast amounts of news articles are published daily, making it challenging to categorize and analyze news efficiently. Traditional methods of manual classification are time-consuming and prone to errors. This project aims to build an automated **News Headline Classifier** using **TF-IDF** and machine learning algorithms to categorize news headlines accurately.  \n",
        "\n",
        "- The project involves **loading, cleaning, visualizing, and vectorizing text data**, extracting **important keywords**, and **training multiple machine learning models** to identify the best-performing algorithm. The most accurate model will be saved and deployed using **Streamlit or FastAPI**, allowing users to input news headlines and receive real-time predictions. The final deployment on **cloud platforms like AWS, Azure, or Render** will enable accessibility and scalability for real-world applications.  \n",
        "\n",
        "- This solution can be utilized in various domains such as **news aggregation platforms, fake news detection, content recommendation systems, and social media monitoring**, ensuring faster and more reliable news classification.  \n",
        "\n",
        "<br>\n",
        "\n",
        "# ________________________________________________________________________________________\n",
        "\n",
        "<br>\n",
        "\n",
        "<h3 style=\"text-align: center;\"><b>Python Libraries Used</b></h3>\n",
        "\n",
        "<table style=\"width: 100%; border-collapse: collapse; text-align: left;\">\n",
        "  <thead>\n",
        "    <tr style=\"background-color: yellow; color: black\">\n",
        "      <th style=\"border: 1px solid #ddd; padding: 8px; text-align: center;\">Library</th>\n",
        "      <th style=\"border: 1px solid #ddd; padding: 8px; text-align: center;\">Purpose</th>\n",
        "    </tr>\n",
        "  </thead>\n",
        "  <tbody>\n",
        "    <tr style=\"background-color: gray;\">\n",
        "      <td style=\"border: 1px solid #ddd; padding: 8px; text-align: center\">Numpy</td>\n",
        "      <td style=\"border: 1px solid #ddd; padding: 8px; text-align: center;\">Array handling & manipulation, series controlling</td>\n",
        "    </tr>\n",
        "    <tr style=\"background-color: gray;\">\n",
        "      <td style=\"border: 1px solid #ddd; padding: 8px; text-align: center\">Pandas</td>\n",
        "      <td style=\"border: 1px solid #ddd; padding: 8px; text-align: center;\">DataFrame Handling, manipulation and cleaning</td>\n",
        "    </tr>\n",
        "    <tr style=\"background-color: gray;\">\n",
        "      <td style=\"border: 1px solid #ddd; padding: 8px; text-align: center\">Matplotlib & Seaborn</td>\n",
        "      <td style=\"border: 1px solid #ddd; padding: 8px; text-align: center;\">Data Visualization, Plotting and showing trends</td>\n",
        "    </tr>\n",
        "    <tr style=\"background-color: gray;\">\n",
        "      <td style=\"border: 1px solid #ddd; padding: 8px; text-align: center\">Plotly</td>\n",
        "      <td style=\"border: 1px solid #ddd; padding: 8px; text-align: center;\">3D Visualization of data</td>\n",
        "    </tr>\n",
        "    <tr style=\"background-color: gray;\">\n",
        "      <td style=\"border: 1px solid #ddd; padding: 8px; text-align: center\">Scikit-Learn</td>\n",
        "      <td style=\"border: 1px solid #ddd; padding: 8px; text-align: center;\">ML modeling, preprocessing, feature selection, evaluation</td>\n",
        "    </tr>\n",
        "    <tr style=\"background-color: gray;\">\n",
        "      <td style=\"border: 1px solid #ddd; padding: 8px; text-align: center\">Pipeline Module</td>\n",
        "      <td style=\"border: 1px solid #ddd; padding: 8px; text-align: center;\">Making a pipeline, training and predicting our targets on multiple ML Algorithms</td>\n",
        "    </tr>\n",
        "    <tr style=\"background-color: gray;\">\n",
        "      <td style=\"border: 1px solid #ddd; padding: 8px; text-align: center\">joblib</td>\n",
        "      <td style=\"border: 1px solid #ddd; padding: 8px; text-align: center;\">For saving and loading best algorithm and tf-idf vectorizer</td>\n",
        "    </tr>\n",
        "  </tbody>\n",
        "</table>\n",
        "\n",
        "<br>\n",
        "\n",
        "# Let's start our project\n",
        "\n",
        "<br>"
      ]
    },
    {
      "cell_type": "markdown",
      "metadata": {
        "id": "TbxE0vrp0bXP"
      },
      "source": [
        "<br>\n",
        "\n",
        "<h1 style=\"text-align: center;\"><b></b>Loading Our DataSet<b></b></h1>\n",
        "\n",
        "<br>"
      ]
    },
    {
      "cell_type": "code",
      "execution_count": null,
      "metadata": {
        "id": "zZSQSMlj0bXQ"
      },
      "outputs": [],
      "source": [
        "import pandas as pd"
      ]
    },
    {
      "cell_type": "code",
      "execution_count": null,
      "metadata": {
        "id": "rw0aRs9e0bXS",
        "outputId": "64f40571-6305-46be-b528-c988357f8b0c"
      },
      "outputs": [
        {
          "data": {
            "text/html": [
              "<div>\n",
              "<style scoped>\n",
              "    .dataframe tbody tr th:only-of-type {\n",
              "        vertical-align: middle;\n",
              "    }\n",
              "\n",
              "    .dataframe tbody tr th {\n",
              "        vertical-align: top;\n",
              "    }\n",
              "\n",
              "    .dataframe thead th {\n",
              "        text-align: right;\n",
              "    }\n",
              "</style>\n",
              "<table border=\"1\" class=\"dataframe\">\n",
              "  <thead>\n",
              "    <tr style=\"text-align: right;\">\n",
              "      <th></th>\n",
              "      <th>category</th>\n",
              "      <th>headline</th>\n",
              "      <th>links</th>\n",
              "      <th>short_description</th>\n",
              "      <th>keywords</th>\n",
              "    </tr>\n",
              "  </thead>\n",
              "  <tbody>\n",
              "    <tr>\n",
              "      <th>0</th>\n",
              "      <td>WELLNESS</td>\n",
              "      <td>143 Miles in 35 Days: Lessons Learned</td>\n",
              "      <td>https://www.huffingtonpost.com/entry/running-l...</td>\n",
              "      <td>Resting is part of training. I've confirmed wh...</td>\n",
              "      <td>running-lessons</td>\n",
              "    </tr>\n",
              "    <tr>\n",
              "      <th>1</th>\n",
              "      <td>WELLNESS</td>\n",
              "      <td>Talking to Yourself: Crazy or Crazy Helpful?</td>\n",
              "      <td>https://www.huffingtonpost.com/entry/talking-t...</td>\n",
              "      <td>Think of talking to yourself as a tool to coac...</td>\n",
              "      <td>talking-to-yourself-crazy</td>\n",
              "    </tr>\n",
              "    <tr>\n",
              "      <th>2</th>\n",
              "      <td>WELLNESS</td>\n",
              "      <td>Crenezumab: Trial Will Gauge Whether Alzheimer...</td>\n",
              "      <td>https://www.huffingtonpost.com/entry/crenezuma...</td>\n",
              "      <td>The clock is ticking for the United States to ...</td>\n",
              "      <td>crenezumab-alzheimers-disease-drug</td>\n",
              "    </tr>\n",
              "    <tr>\n",
              "      <th>3</th>\n",
              "      <td>WELLNESS</td>\n",
              "      <td>Oh, What a Difference She Made</td>\n",
              "      <td>https://www.huffingtonpost.com/entry/meaningfu...</td>\n",
              "      <td>If you want to be busy, keep trying to be perf...</td>\n",
              "      <td>meaningful-life</td>\n",
              "    </tr>\n",
              "    <tr>\n",
              "      <th>4</th>\n",
              "      <td>WELLNESS</td>\n",
              "      <td>Green Superfoods</td>\n",
              "      <td>https://www.huffingtonpost.com/entry/green-sup...</td>\n",
              "      <td>First, the bad news: Soda bread, corned beef a...</td>\n",
              "      <td>green-superfoods</td>\n",
              "    </tr>\n",
              "    <tr>\n",
              "      <th>...</th>\n",
              "      <td>...</td>\n",
              "      <td>...</td>\n",
              "      <td>...</td>\n",
              "      <td>...</td>\n",
              "      <td>...</td>\n",
              "    </tr>\n",
              "    <tr>\n",
              "      <th>20995</th>\n",
              "      <td>STYLE &amp; BEAUTY</td>\n",
              "      <td>Miley Cyrus Blonde Hair Comes With Duck Lips (...</td>\n",
              "      <td>https://www.huffingtonpost.com/entry/miley-cyr...</td>\n",
              "      <td>Want more? Be sure to check out HuffPost Style...</td>\n",
              "      <td>miley-cyrus-blonde-hair</td>\n",
              "    </tr>\n",
              "    <tr>\n",
              "      <th>20996</th>\n",
              "      <td>STYLE &amp; BEAUTY</td>\n",
              "      <td>Why Fashion Week Is Going Green</td>\n",
              "      <td>https://www.huffingtonpost.com/entry/fashion-w...</td>\n",
              "      <td>As the fashion world incorporates environmenta...</td>\n",
              "      <td>fashion-week-sustainability</td>\n",
              "    </tr>\n",
              "    <tr>\n",
              "      <th>20997</th>\n",
              "      <td>STYLE &amp; BEAUTY</td>\n",
              "      <td>Virgin Lawsuit Against Clothing Line May Be In...</td>\n",
              "      <td>https://www.huffingtonpost.com/entry/virgin-la...</td>\n",
              "      <td>If you're of the same mind as Heron and hope t...</td>\n",
              "      <td>virgin-lawsuit-clothing-line</td>\n",
              "    </tr>\n",
              "    <tr>\n",
              "      <th>20998</th>\n",
              "      <td>STYLE &amp; BEAUTY</td>\n",
              "      <td>Fur At Fashion Week</td>\n",
              "      <td>https://www.huffingtonpost.com/entry/fun-at-fa...</td>\n",
              "      <td>What is it that makes fur feel so good, and us...</td>\n",
              "      <td>fun-at-fashion-week</td>\n",
              "    </tr>\n",
              "    <tr>\n",
              "      <th>20999</th>\n",
              "      <td>STYLE &amp; BEAUTY</td>\n",
              "      <td>Sarah Jessica Parker's Style Evolution (PHOTOS)</td>\n",
              "      <td>https://www.huffingtonpost.com/entry/sarah-jes...</td>\n",
              "      <td>Best known for her role as the always-fashiona...</td>\n",
              "      <td>sarah-jessica-parker-style</td>\n",
              "    </tr>\n",
              "  </tbody>\n",
              "</table>\n",
              "<p>21000 rows × 5 columns</p>\n",
              "</div>"
            ],
            "text/plain": [
              "             category                                           headline  \\\n",
              "0            WELLNESS              143 Miles in 35 Days: Lessons Learned   \n",
              "1            WELLNESS       Talking to Yourself: Crazy or Crazy Helpful?   \n",
              "2            WELLNESS  Crenezumab: Trial Will Gauge Whether Alzheimer...   \n",
              "3            WELLNESS                     Oh, What a Difference She Made   \n",
              "4            WELLNESS                                   Green Superfoods   \n",
              "...               ...                                                ...   \n",
              "20995  STYLE & BEAUTY  Miley Cyrus Blonde Hair Comes With Duck Lips (...   \n",
              "20996  STYLE & BEAUTY                    Why Fashion Week Is Going Green   \n",
              "20997  STYLE & BEAUTY  Virgin Lawsuit Against Clothing Line May Be In...   \n",
              "20998  STYLE & BEAUTY                                Fur At Fashion Week   \n",
              "20999  STYLE & BEAUTY    Sarah Jessica Parker's Style Evolution (PHOTOS)   \n",
              "\n",
              "                                                   links  \\\n",
              "0      https://www.huffingtonpost.com/entry/running-l...   \n",
              "1      https://www.huffingtonpost.com/entry/talking-t...   \n",
              "2      https://www.huffingtonpost.com/entry/crenezuma...   \n",
              "3      https://www.huffingtonpost.com/entry/meaningfu...   \n",
              "4      https://www.huffingtonpost.com/entry/green-sup...   \n",
              "...                                                  ...   \n",
              "20995  https://www.huffingtonpost.com/entry/miley-cyr...   \n",
              "20996  https://www.huffingtonpost.com/entry/fashion-w...   \n",
              "20997  https://www.huffingtonpost.com/entry/virgin-la...   \n",
              "20998  https://www.huffingtonpost.com/entry/fun-at-fa...   \n",
              "20999  https://www.huffingtonpost.com/entry/sarah-jes...   \n",
              "\n",
              "                                       short_description  \\\n",
              "0      Resting is part of training. I've confirmed wh...   \n",
              "1      Think of talking to yourself as a tool to coac...   \n",
              "2      The clock is ticking for the United States to ...   \n",
              "3      If you want to be busy, keep trying to be perf...   \n",
              "4      First, the bad news: Soda bread, corned beef a...   \n",
              "...                                                  ...   \n",
              "20995  Want more? Be sure to check out HuffPost Style...   \n",
              "20996  As the fashion world incorporates environmenta...   \n",
              "20997  If you're of the same mind as Heron and hope t...   \n",
              "20998  What is it that makes fur feel so good, and us...   \n",
              "20999  Best known for her role as the always-fashiona...   \n",
              "\n",
              "                                 keywords  \n",
              "0                         running-lessons  \n",
              "1               talking-to-yourself-crazy  \n",
              "2      crenezumab-alzheimers-disease-drug  \n",
              "3                         meaningful-life  \n",
              "4                        green-superfoods  \n",
              "...                                   ...  \n",
              "20995             miley-cyrus-blonde-hair  \n",
              "20996         fashion-week-sustainability  \n",
              "20997        virgin-lawsuit-clothing-line  \n",
              "20998                 fun-at-fashion-week  \n",
              "20999          sarah-jessica-parker-style  \n",
              "\n",
              "[21000 rows x 5 columns]"
            ]
          },
          "execution_count": 4,
          "metadata": {},
          "output_type": "execute_result"
        }
      ],
      "source": [
        "df = pd.read_csv(\"NewsCategorizer21.csv\")\n",
        "df"
      ]
    },
    {
      "cell_type": "markdown",
      "metadata": {
        "id": "4z_t3NVF0bXV"
      },
      "source": [
        "<br>\n",
        "\n",
        "<h1 style=\"text-align: center; color: red\"><b>1. Analyzing Dataset<b></h1>\n",
        "\n",
        "- Pandas\n",
        "    \n",
        "<br>"
      ]
    },
    {
      "cell_type": "markdown",
      "metadata": {
        "id": "Q6Op5O_Y0bXW"
      },
      "source": [
        "<br>\n",
        "\n",
        "<h2 style=\"text-align: center;\"><b></b>DataSet Info<b></b></h2>\n",
        "\n",
        "<br>"
      ]
    },
    {
      "cell_type": "code",
      "execution_count": null,
      "metadata": {
        "id": "VJ07Iz4s0bXW",
        "outputId": "772fe627-cffe-4df3-cbc7-80a6544e3d74"
      },
      "outputs": [
        {
          "name": "stdout",
          "output_type": "stream",
          "text": [
            "<class 'pandas.core.frame.DataFrame'>\n",
            "RangeIndex: 21000 entries, 0 to 20999\n",
            "Data columns (total 5 columns):\n",
            " #   Column             Non-Null Count  Dtype \n",
            "---  ------             --------------  ----- \n",
            " 0   category           21000 non-null  object\n",
            " 1   headline           21000 non-null  object\n",
            " 2   links              21000 non-null  object\n",
            " 3   short_description  21000 non-null  object\n",
            " 4   keywords           20111 non-null  object\n",
            "dtypes: object(5)\n",
            "memory usage: 820.4+ KB\n"
          ]
        }
      ],
      "source": [
        "df.info()"
      ]
    },
    {
      "cell_type": "markdown",
      "metadata": {
        "id": "Azu1tGi40bXX"
      },
      "source": [
        "<br>\n",
        "\n",
        "<h2 style=\"text-align: center;\"><b></b>Droping Null Values<b></b></h2>\n",
        "\n",
        "<br>"
      ]
    },
    {
      "cell_type": "code",
      "execution_count": null,
      "metadata": {
        "id": "_dd8a6_V0bXX",
        "outputId": "2ef280dd-616a-46a3-bf51-a43fa5c463a8"
      },
      "outputs": [
        {
          "data": {
            "text/plain": [
              "category               0\n",
              "headline               0\n",
              "links                  0\n",
              "short_description      0\n",
              "keywords             889\n",
              "dtype: int64"
            ]
          },
          "execution_count": 6,
          "metadata": {},
          "output_type": "execute_result"
        }
      ],
      "source": [
        "df.isnull().sum()"
      ]
    },
    {
      "cell_type": "code",
      "execution_count": null,
      "metadata": {
        "id": "3bwRa5Zn0bXY"
      },
      "outputs": [],
      "source": [
        "df.dropna(inplace = True)"
      ]
    },
    {
      "cell_type": "code",
      "execution_count": null,
      "metadata": {
        "id": "gnRiiYya0bXY",
        "outputId": "9cb58783-42f9-4fb3-caf2-4f9410637e17"
      },
      "outputs": [
        {
          "data": {
            "text/plain": [
              "category             0\n",
              "headline             0\n",
              "links                0\n",
              "short_description    0\n",
              "keywords             0\n",
              "dtype: int64"
            ]
          },
          "execution_count": 8,
          "metadata": {},
          "output_type": "execute_result"
        }
      ],
      "source": [
        "df.isnull().sum()"
      ]
    },
    {
      "cell_type": "markdown",
      "metadata": {
        "id": "T1_KRCy40bXZ"
      },
      "source": [
        "<br>\n",
        "\n",
        "<h2 style=\"text-align: center;\"><b></b>DataSet Details<b></b></h2>\n",
        "\n",
        "<br>"
      ]
    },
    {
      "cell_type": "code",
      "execution_count": null,
      "metadata": {
        "id": "LdPhicV90bXZ",
        "outputId": "55d37626-0960-4300-ecf4-1bd23ec5eaff"
      },
      "outputs": [
        {
          "data": {
            "text/plain": [
              "Index(['category', 'headline', 'links', 'short_description', 'keywords'], dtype='object')"
            ]
          },
          "execution_count": 9,
          "metadata": {},
          "output_type": "execute_result"
        }
      ],
      "source": [
        "df.columns"
      ]
    },
    {
      "cell_type": "code",
      "execution_count": null,
      "metadata": {
        "id": "7s7deutm0bXZ",
        "outputId": "1193cc89-7da6-4ac3-94c5-6bfbcf193e31"
      },
      "outputs": [
        {
          "data": {
            "text/plain": [
              "Index(['category', 'headline', 'links', 'short_description', 'keywords'], dtype='object')"
            ]
          },
          "execution_count": 10,
          "metadata": {},
          "output_type": "execute_result"
        }
      ],
      "source": [
        "df.keys()"
      ]
    },
    {
      "cell_type": "code",
      "execution_count": null,
      "metadata": {
        "id": "2Y81e4Sw0bXa",
        "outputId": "34461172-3c2b-49ea-ead7-baa50a197916"
      },
      "outputs": [
        {
          "data": {
            "text/plain": [
              "0              WELLNESS\n",
              "1              WELLNESS\n",
              "2              WELLNESS\n",
              "3              WELLNESS\n",
              "4              WELLNESS\n",
              "              ...      \n",
              "20995    STYLE & BEAUTY\n",
              "20996    STYLE & BEAUTY\n",
              "20997    STYLE & BEAUTY\n",
              "20998    STYLE & BEAUTY\n",
              "20999    STYLE & BEAUTY\n",
              "Name: category, Length: 20111, dtype: object"
            ]
          },
          "execution_count": 11,
          "metadata": {},
          "output_type": "execute_result"
        }
      ],
      "source": [
        "df.category"
      ]
    },
    {
      "cell_type": "markdown",
      "metadata": {
        "id": "B9FigWeO0bXa"
      },
      "source": [
        "<br>\n",
        "\n",
        "<h2 style=\"text-align: center;\"><b></b>DataSet Description<b></b></h2>\n",
        "\n",
        "<br>"
      ]
    },
    {
      "cell_type": "code",
      "execution_count": null,
      "metadata": {
        "id": "V6po_EA10bXa",
        "outputId": "1ac081c4-2f7e-47fa-e359-12236463183a"
      },
      "outputs": [
        {
          "data": {
            "text/html": [
              "<div>\n",
              "<style scoped>\n",
              "    .dataframe tbody tr th:only-of-type {\n",
              "        vertical-align: middle;\n",
              "    }\n",
              "\n",
              "    .dataframe tbody tr th {\n",
              "        vertical-align: top;\n",
              "    }\n",
              "\n",
              "    .dataframe thead th {\n",
              "        text-align: right;\n",
              "    }\n",
              "</style>\n",
              "<table border=\"1\" class=\"dataframe\">\n",
              "  <thead>\n",
              "    <tr style=\"text-align: right;\">\n",
              "      <th></th>\n",
              "      <th>category</th>\n",
              "      <th>headline</th>\n",
              "      <th>links</th>\n",
              "      <th>short_description</th>\n",
              "      <th>keywords</th>\n",
              "    </tr>\n",
              "  </thead>\n",
              "  <tbody>\n",
              "    <tr>\n",
              "      <th>count</th>\n",
              "      <td>20111</td>\n",
              "      <td>20111</td>\n",
              "      <td>20111</td>\n",
              "      <td>20111</td>\n",
              "      <td>20111</td>\n",
              "    </tr>\n",
              "    <tr>\n",
              "      <th>unique</th>\n",
              "      <td>5</td>\n",
              "      <td>20072</td>\n",
              "      <td>20111</td>\n",
              "      <td>20111</td>\n",
              "      <td>19119</td>\n",
              "    </tr>\n",
              "    <tr>\n",
              "      <th>top</th>\n",
              "      <td>TRAVEL</td>\n",
              "      <td>Sunday Roundup</td>\n",
              "      <td>https://www.huffingtonpost.com/entry/sarah-jes...</td>\n",
              "      <td>Best known for her role as the always-fashiona...</td>\n",
              "      <td>life-lessons</td>\n",
              "    </tr>\n",
              "    <tr>\n",
              "      <th>freq</th>\n",
              "      <td>4865</td>\n",
              "      <td>22</td>\n",
              "      <td>1</td>\n",
              "      <td>1</td>\n",
              "      <td>42</td>\n",
              "    </tr>\n",
              "  </tbody>\n",
              "</table>\n",
              "</div>"
            ],
            "text/plain": [
              "       category        headline  \\\n",
              "count     20111           20111   \n",
              "unique        5           20072   \n",
              "top      TRAVEL  Sunday Roundup   \n",
              "freq       4865              22   \n",
              "\n",
              "                                                    links  \\\n",
              "count                                               20111   \n",
              "unique                                              20111   \n",
              "top     https://www.huffingtonpost.com/entry/sarah-jes...   \n",
              "freq                                                    1   \n",
              "\n",
              "                                        short_description      keywords  \n",
              "count                                               20111         20111  \n",
              "unique                                              20111         19119  \n",
              "top     Best known for her role as the always-fashiona...  life-lessons  \n",
              "freq                                                    1            42  "
            ]
          },
          "execution_count": 12,
          "metadata": {},
          "output_type": "execute_result"
        }
      ],
      "source": [
        "df.describe()"
      ]
    },
    {
      "cell_type": "markdown",
      "metadata": {
        "id": "1r0OCaH10bXb"
      },
      "source": [
        "<br>\n",
        "\n",
        "<h2 style=\"text-align: center;\"><b></b>DataSet Values<b></b></h2>\n",
        "\n",
        "- Checking the occurences of each category\n",
        "\n",
        "<br>"
      ]
    },
    {
      "cell_type": "code",
      "execution_count": null,
      "metadata": {
        "id": "Lhg3y-WP0bXb",
        "outputId": "8c6ffeb8-a90e-4062-a02b-79536b950539"
      },
      "outputs": [
        {
          "name": "stdout",
          "output_type": "stream",
          "text": [
            "There are total 5 news categories.\n"
          ]
        },
        {
          "data": {
            "text/plain": [
              "category\n",
              "TRAVEL            4865\n",
              "ENTERTAINMENT     4855\n",
              "WELLNESS          4741\n",
              "POLITICS          4712\n",
              "STYLE & BEAUTY     938\n",
              "Name: count, dtype: int64"
            ]
          },
          "execution_count": 13,
          "metadata": {},
          "output_type": "execute_result"
        }
      ],
      "source": [
        "print(f\"There are total {len(df['category'].value_counts())} news categories.\")\n",
        "\n",
        "df['category'].value_counts()"
      ]
    },
    {
      "cell_type": "markdown",
      "metadata": {
        "id": "y2Obvax90bXb"
      },
      "source": [
        "<br>\n",
        "\n",
        "<h1 style=\"text-align: center; color: red\"><b>2. Visualizing DataSet<b></h1>\n",
        "\n",
        "- Matplotlib\n",
        "- Seaborn\n",
        "    \n",
        "<br>"
      ]
    },
    {
      "cell_type": "markdown",
      "metadata": {
        "id": "dWxiXt5t0bXc"
      },
      "source": [
        "<br>\n",
        "\n",
        "<h2 style=\"text-align: center;\"><b></b>Plotting Pie Plot<b></b></h2>\n",
        "\n",
        "- Visualizing Category Distribution through Pie Plot\n",
        "\n",
        "<br>"
      ]
    },
    {
      "cell_type": "code",
      "execution_count": null,
      "metadata": {
        "id": "rAUqFyzO0bXc"
      },
      "outputs": [],
      "source": [
        "import matplotlib.pyplot as plt\n",
        "import seaborn as sns"
      ]
    },
    {
      "cell_type": "code",
      "execution_count": null,
      "metadata": {
        "id": "B7FxAeUZ0bXc",
        "outputId": "ea03e526-504d-41bb-fa72-c4814e0c64ca"
      },
      "outputs": [
        {
          "data": {
            "image/png": "[encoded data removed]",
            "text/plain": [
              "<Figure size 700x700 with 1 Axes>"
            ]
          },
          "metadata": {},
          "output_type": "display_data"
        }
      ],
      "source": [
        "df['category'].value_counts().plot(kind = 'pie', autopct = '%1.3f%%', figsize = (7, 7), shadow = True, explode = (0.1,0.1,0.1,0.1,0.3))\n",
        "plt.title('Category Distribution')\n",
        "plt.show()"
      ]
    },
    {
      "cell_type": "markdown",
      "metadata": {
        "id": "QR0yq42F0bXc"
      },
      "source": [
        "<br>\n",
        "\n",
        "<h2 style=\"text-align: center;\"><b></b>Bar Plot<b></b></h2>\n",
        "\n",
        "- Plotting Bar Plot for Category Distrbution\n",
        "\n",
        "<br>"
      ]
    },
    {
      "cell_type": "code",
      "execution_count": null,
      "metadata": {
        "id": "AvpxQHIl0bXd",
        "outputId": "b2f1166f-443c-44be-8a6d-cbf93db62dce"
      },
      "outputs": [
        {
          "data": {
            "image/png": "[encoded data removed]",
            "text/plain": [
              "<Figure size 1000x500 with 1 Axes>"
            ]
          },
          "metadata": {},
          "output_type": "display_data"
        }
      ],
      "source": [
        "import matplotlib.pyplot as plt\n",
        "import seaborn as sns\n",
        "\n",
        "plt.figure(figsize=(10, 5))\n",
        "sns.countplot(x=df['category'], order=df['category'].value_counts().index)\n",
        "plt.title(\"Category Distribution\")\n",
        "plt.xlabel(\"Category\")\n",
        "plt.ylabel(\"Count\")\n",
        "plt.grid(color = 'black')\n",
        "plt.show()\n"
      ]
    },
    {
      "cell_type": "code",
      "execution_count": null,
      "metadata": {
        "id": "TT9jgOk70bXe",
        "outputId": "666f168b-6aa9-40bb-f39f-c2abe183a4ce"
      },
      "outputs": [
        {
          "data": {
            "image/png": "[encoded data removed]",
            "text/plain": [
              "<Figure size 900x300 with 1 Axes>"
            ]
          },
          "metadata": {},
          "output_type": "display_data"
        }
      ],
      "source": [
        "import warnings\n",
        "warnings.simplefilter(action='ignore', category=FutureWarning)\n",
        "\n",
        "import matplotlib.pyplot as plt\n",
        "import seaborn as sns\n",
        "\n",
        "plt.figure(figsize=(9, 3))\n",
        "sns.set_style(\"darkgrid\")\n",
        "\n",
        "ax = sns.countplot(\n",
        "    x=df['category'],\n",
        "    order=df['category'].value_counts().index,\n",
        "    palette=\"viridis\",\n",
        "    edgecolor=\"black\"\n",
        ")\n",
        "\n",
        "plt.xticks(rotation=45, ha=\"right\", fontsize=12)\n",
        "\n",
        "# Add labels and title\n",
        "plt.xlabel(\"Category\", fontsize=14, fontweight=\"bold\", color=\"darkblue\")\n",
        "plt.ylabel(\"Count\", fontsize=14, fontweight=\"bold\", color=\"darkblue\")\n",
        "plt.title(\"Distribution of News Categories\", fontsize=16, fontweight=\"bold\", color=\"darkred\")\n",
        "\n",
        "for p in ax.patches:\n",
        "    ax.annotate(f'{int(p.get_height())}',\n",
        "                (p.get_x() + p.get_width() / 2, p.get_height()),\n",
        "                ha='center', va='bottom', fontsize=12, color=\"black\", fontweight=\"bold\")\n",
        "\n",
        "plt.grid(color = 'black')\n",
        "plt.show()\n"
      ]
    },
    {
      "cell_type": "markdown",
      "metadata": {
        "id": "IBQI2WsN0bXe"
      },
      "source": [
        "<br>\n",
        "\n",
        "<h2 style=\"text-align: center;\"><b>Bar Plot</b>Bar Plot<b></b></h2>\n",
        "\n",
        "- Displaying Top Keywords\n",
        "\n",
        "<br>"
      ]
    },
    {
      "cell_type": "code",
      "execution_count": null,
      "metadata": {
        "id": "t0yHb6JD0bXe",
        "outputId": "ff8099d9-c135-4c27-df45-02d8780feee1"
      },
      "outputs": [
        {
          "data": {
            "image/png": "[encoded data removed]",
            "text/plain": [
              "<Figure size 1200x600 with 1 Axes>"
            ]
          },
          "metadata": {},
          "output_type": "display_data"
        }
      ],
      "source": [
        "from collections import Counter\n",
        "keywords = \" \".join(df['keywords']).split(\"-\")\n",
        "top_keywords = dict(Counter(keywords).most_common(15))\n",
        "\n",
        "plt.figure(figsize=(12,6))\n",
        "sns.barplot(x=list(top_keywords.keys()), y=list(top_keywords.values()), palette=\"magma\")\n",
        "plt.xticks(rotation=45)\n",
        "plt.xlabel(\"Keywords\")\n",
        "plt.ylabel(\"Frequency\")\n",
        "plt.title(\"Top 15 Most Frequent Keywords\")\n",
        "plt.show()\n"
      ]
    },
    {
      "cell_type": "markdown",
      "metadata": {
        "id": "e6VZDu1o0bXe"
      },
      "source": [
        "<br>\n",
        "\n",
        "<h2 style=\"text-align: center;\"><b>Histogram Plot</b>Bar Plot<b></b></h2>\n",
        "\n",
        "- Displaying Length of Descriptions\n",
        "\n",
        "<br>"
      ]
    },
    {
      "cell_type": "code",
      "execution_count": null,
      "metadata": {
        "id": "Szi2-SsP0bXf",
        "outputId": "c56be241-8bce-434c-b527-6cf9d660df83"
      },
      "outputs": [
        {
          "data": {
            "image/png": "[encoded data removed]",
            "text/plain": [
              "<Figure size 1200x600 with 1 Axes>"
            ]
          },
          "metadata": {},
          "output_type": "display_data"
        }
      ],
      "source": [
        "df[\"desc_length\"] = df[\"short_description\"].str.len()\n",
        "plt.figure(figsize=(12,6))\n",
        "sns.histplot(df[\"desc_length\"], bins=30, kde=True, color=\"blue\")\n",
        "plt.xlabel(\"Description Length\")\n",
        "plt.ylabel(\"Count\")\n",
        "plt.title(\"Distribution of Short Description Lengths\")\n",
        "plt.show()\n"
      ]
    },
    {
      "cell_type": "markdown",
      "metadata": {
        "id": "yI-chiio0bXf"
      },
      "source": [
        "<br>\n",
        "\n",
        "<h2 style=\"text-align: center;\"><b>Box Plot</b>Bar Plot<b></b></h2>\n",
        "\n",
        "- Displaying Length of Descriptions across Categories\n",
        "\n",
        "<br>"
      ]
    },
    {
      "cell_type": "code",
      "execution_count": null,
      "metadata": {
        "id": "efm9vVfu0bXf",
        "outputId": "c39aa55c-e8a9-4d9b-bd25-58f4a8bd94ba"
      },
      "outputs": [
        {
          "data": {
            "image/png": "[encoded data removed]",
            "text/plain": [
              "<Figure size 1400x600 with 1 Axes>"
            ]
          },
          "metadata": {},
          "output_type": "display_data"
        }
      ],
      "source": [
        "plt.figure(figsize=(14,6))\n",
        "sns.boxplot(x=df[\"category\"], y=df[\"desc_length\"], palette=\"Set2\")\n",
        "plt.xticks(rotation=45)\n",
        "plt.xlabel(\"Category\")\n",
        "plt.ylabel(\"Description Length\")\n",
        "plt.title(\"Short Description Length by Category\")\n",
        "plt.show()\n"
      ]
    },
    {
      "cell_type": "markdown",
      "metadata": {
        "id": "zrazROqw0bXg"
      },
      "source": [
        "<br>\n",
        "<h1 style=\"text-align: center; color: red\"><b>3. Creating Training and Test DataSet<b></h1>\n",
        "    \n",
        "- Scikit-Learn\n",
        "\n",
        "<br>"
      ]
    },
    {
      "cell_type": "code",
      "execution_count": null,
      "metadata": {
        "id": "JZhVK6zI0bXg"
      },
      "outputs": [],
      "source": [
        "x = df['headline']\n",
        "y = df['category']"
      ]
    },
    {
      "cell_type": "markdown",
      "metadata": {
        "id": "9R9_oP_r0bXh"
      },
      "source": [
        "<br>\n",
        "\n",
        "<h2 style=\"text-align: center;\"><b>\"x (independent variable) info\" & \"y (dependent variable) info\"</b></h2>\n",
        "\n",
        "<br>"
      ]
    },
    {
      "cell_type": "code",
      "execution_count": null,
      "metadata": {
        "id": "6ApDWjHj0bXh",
        "outputId": "21d22c5f-96cf-4bae-854e-73ad28222bfd"
      },
      "outputs": [
        {
          "name": "stdout",
          "output_type": "stream",
          "text": [
            "<class 'pandas.core.series.Series'>\n",
            "Index: 20111 entries, 0 to 20999\n",
            "Series name: headline\n",
            "Non-Null Count  Dtype \n",
            "--------------  ----- \n",
            "20111 non-null  object\n",
            "dtypes: object(1)\n",
            "memory usage: 314.2+ KB\n"
          ]
        }
      ],
      "source": [
        "x.info()"
      ]
    },
    {
      "cell_type": "code",
      "execution_count": null,
      "metadata": {
        "id": "FPym2K4e0bXh",
        "outputId": "18cb0609-6cfb-402b-e30c-2715ae527a9a"
      },
      "outputs": [
        {
          "name": "stdout",
          "output_type": "stream",
          "text": [
            "<class 'pandas.core.series.Series'>\n",
            "Index: 20111 entries, 0 to 20999\n",
            "Series name: category\n",
            "Non-Null Count  Dtype \n",
            "--------------  ----- \n",
            "20111 non-null  object\n",
            "dtypes: object(1)\n",
            "memory usage: 314.2+ KB\n"
          ]
        }
      ],
      "source": [
        "y.info()"
      ]
    },
    {
      "cell_type": "markdown",
      "metadata": {
        "id": "5NWq7Agw0bXi"
      },
      "source": [
        "<br>\n",
        "\n",
        "<h2 style=\"text-align: center;\"><b>Splitting Data into Train & Test Split</b></h2>\n",
        "\n",
        "<br>"
      ]
    },
    {
      "cell_type": "code",
      "execution_count": null,
      "metadata": {
        "id": "trx1hPdn0bXi"
      },
      "outputs": [],
      "source": [
        "from sklearn.model_selection import train_test_split"
      ]
    },
    {
      "cell_type": "code",
      "execution_count": null,
      "metadata": {
        "id": "CTWCjWYE0bXk"
      },
      "outputs": [],
      "source": [
        "x_train, x_test, y_train, y_test = train_test_split(x, y, test_size = 0.2, random_state = 0)"
      ]
    },
    {
      "cell_type": "markdown",
      "metadata": {
        "id": "3Voppnt30bXk"
      },
      "source": [
        "<br>\n",
        "\n",
        "<h2 style=\"text-align: center;\"><b>Splitted DatSet Shapes</b></h2>\n",
        "\n",
        "<br>"
      ]
    },
    {
      "cell_type": "code",
      "execution_count": null,
      "metadata": {
        "id": "6Uvi90QB0bXl",
        "outputId": "62c889dd-e217-4184-df38-86a5cf3513ea"
      },
      "outputs": [
        {
          "data": {
            "text/plain": [
              "((16088,), (4023,), (16088,), (4023,))"
            ]
          },
          "execution_count": 26,
          "metadata": {},
          "output_type": "execute_result"
        }
      ],
      "source": [
        "x_train.shape, x_test.shape, y_train.shape, y_test.shape"
      ]
    },
    {
      "cell_type": "markdown",
      "metadata": {
        "id": "x3ZI02au0bXl"
      },
      "source": [
        "<br>\n",
        "<h1 style=\"text-align: center; color: red\"><b>4. Starting Vectorization through TF-IDF<b></h1>\n",
        "    \n",
        "- Scikit-Learn\n",
        "- TF-IDF\n",
        "\n",
        "<br>"
      ]
    },
    {
      "cell_type": "markdown",
      "metadata": {
        "id": "8nMJgYue0bXl"
      },
      "source": [
        "<br>\n",
        "\n",
        "<h2 style=\"text-align: center;\"><b>Importing Tfidf Vectorizer</b></h2>\n",
        "\n",
        "<br>"
      ]
    },
    {
      "cell_type": "code",
      "execution_count": null,
      "metadata": {
        "id": "xVpHAz1R0bXm"
      },
      "outputs": [],
      "source": [
        "from sklearn.feature_extraction.text import TfidfVectorizer"
      ]
    },
    {
      "cell_type": "code",
      "execution_count": null,
      "metadata": {
        "id": "06a92lFH0bXm",
        "outputId": "44557ca1-89f9-4a5d-9865-38b20e450937"
      },
      "outputs": [
        {
          "data": {
            "text/html": [
              "<style>#sk-container-id-1 {\n",
              "  /* Definition of color scheme common for light and dark mode */\n",
              "  --sklearn-color-text: #000;\n",
              "  --sklearn-color-text-muted: #666;\n",
              "  --sklearn-color-line: gray;\n",
              "  /* Definition of color scheme for unfitted estimators */\n",
              "  --sklearn-color-unfitted-level-0: #fff5e6;\n",
              "  --sklearn-color-unfitted-level-1: #f6e4d2;\n",
              "  --sklearn-color-unfitted-level-2: #ffe0b3;\n",
              "  --sklearn-color-unfitted-level-3: chocolate;\n",
              "  /* Definition of color scheme for fitted estimators */\n",
              "  --sklearn-color-fitted-level-0: #f0f8ff;\n",
              "  --sklearn-color-fitted-level-1: #d4ebff;\n",
              "  --sklearn-color-fitted-level-2: #b3dbfd;\n",
              "  --sklearn-color-fitted-level-3: cornflowerblue;\n",
              "\n",
              "  /* Specific color for light theme */\n",
              "  --sklearn-color-text-on-default-background: var(--sg-text-color, var(--theme-code-foreground, var(--jp-content-font-color1, black)));\n",
              "  --sklearn-color-background: var(--sg-background-color, var(--theme-background, var(--jp-layout-color0, white)));\n",
              "  --sklearn-color-border-box: var(--sg-text-color, var(--theme-code-foreground, var(--jp-content-font-color1, black)));\n",
              "  --sklearn-color-icon: #696969;\n",
              "\n",
              "  @media (prefers-color-scheme: dark) {\n",
              "    /* Redefinition of color scheme for dark theme */\n",
              "    --sklearn-color-text-on-default-background: var(--sg-text-color, var(--theme-code-foreground, var(--jp-content-font-color1, white)));\n",
              "    --sklearn-color-background: var(--sg-background-color, var(--theme-background, var(--jp-layout-color0, #111)));\n",
              "    --sklearn-color-border-box: var(--sg-text-color, var(--theme-code-foreground, var(--jp-content-font-color1, white)));\n",
              "    --sklearn-color-icon: #878787;\n",
              "  }\n",
              "}\n",
              "\n",
              "#sk-container-id-1 {\n",
              "  color: var(--sklearn-color-text);\n",
              "}\n",
              "\n",
              "#sk-container-id-1 pre {\n",
              "  padding: 0;\n",
              "}\n",
              "\n",
              "#sk-container-id-1 input.sk-hidden--visually {\n",
              "  border: 0;\n",
              "  clip: rect(1px 1px 1px 1px);\n",
              "  clip: rect(1px, 1px, 1px, 1px);\n",
              "  height: 1px;\n",
              "  margin: -1px;\n",
              "  overflow: hidden;\n",
              "  padding: 0;\n",
              "  position: absolute;\n",
              "  width: 1px;\n",
              "}\n",
              "\n",
              "#sk-container-id-1 div.sk-dashed-wrapped {\n",
              "  border: 1px dashed var(--sklearn-color-line);\n",
              "  margin: 0 0.4em 0.5em 0.4em;\n",
              "  box-sizing: border-box;\n",
              "  padding-bottom: 0.4em;\n",
              "  background-color: var(--sklearn-color-background);\n",
              "}\n",
              "\n",
              "#sk-container-id-1 div.sk-container {\n",
              "  /* jupyter's `normalize.less` sets `[hidden] { display: none; }`\n",
              "     but bootstrap.min.css set `[hidden] { display: none !important; }`\n",
              "     so we also need the `!important` here to be able to override the\n",
              "     default hidden behavior on the sphinx rendered scikit-learn.org.\n",
              "     See: https://github.com/scikit-learn/scikit-learn/issues/21755 */\n",
              "  display: inline-block !important;\n",
              "  position: relative;\n",
              "}\n",
              "\n",
              "#sk-container-id-1 div.sk-text-repr-fallback {\n",
              "  display: none;\n",
              "}\n",
              "\n",
              "div.sk-parallel-item,\n",
              "div.sk-serial,\n",
              "div.sk-item {\n",
              "  /* draw centered vertical line to link estimators */\n",
              "  background-image: linear-gradient(var(--sklearn-color-text-on-default-background), var(--sklearn-color-text-on-default-background));\n",
              "  background-size: 2px 100%;\n",
              "  background-repeat: no-repeat;\n",
              "  background-position: center center;\n",
              "}\n",
              "\n",
              "/* Parallel-specific style estimator block */\n",
              "\n",
              "#sk-container-id-1 div.sk-parallel-item::after {\n",
              "  content: \"\";\n",
              "  width: 100%;\n",
              "  border-bottom: 2px solid var(--sklearn-color-text-on-default-background);\n",
              "  flex-grow: 1;\n",
              "}\n",
              "\n",
              "#sk-container-id-1 div.sk-parallel {\n",
              "  display: flex;\n",
              "  align-items: stretch;\n",
              "  justify-content: center;\n",
              "  background-color: var(--sklearn-color-background);\n",
              "  position: relative;\n",
              "}\n",
              "\n",
              "#sk-container-id-1 div.sk-parallel-item {\n",
              "  display: flex;\n",
              "  flex-direction: column;\n",
              "}\n",
              "\n",
              "#sk-container-id-1 div.sk-parallel-item:first-child::after {\n",
              "  align-self: flex-end;\n",
              "  width: 50%;\n",
              "}\n",
              "\n",
              "#sk-container-id-1 div.sk-parallel-item:last-child::after {\n",
              "  align-self: flex-start;\n",
              "  width: 50%;\n",
              "}\n",
              "\n",
              "#sk-container-id-1 div.sk-parallel-item:only-child::after {\n",
              "  width: 0;\n",
              "}\n",
              "\n",
              "/* Serial-specific style estimator block */\n",
              "\n",
              "#sk-container-id-1 div.sk-serial {\n",
              "  display: flex;\n",
              "  flex-direction: column;\n",
              "  align-items: center;\n",
              "  background-color: var(--sklearn-color-background);\n",
              "  padding-right: 1em;\n",
              "  padding-left: 1em;\n",
              "}\n",
              "\n",
              "\n",
              "/* Toggleable style: style used for estimator/Pipeline/ColumnTransformer box that is\n",
              "clickable and can be expanded/collapsed.\n",
              "- Pipeline and ColumnTransformer use this feature and define the default style\n",
              "- Estimators will overwrite some part of the style using the `sk-estimator` class\n",
              "*/\n",
              "\n",
              "/* Pipeline and ColumnTransformer style (default) */\n",
              "\n",
              "#sk-container-id-1 div.sk-toggleable {\n",
              "  /* Default theme specific background. It is overwritten whether we have a\n",
              "  specific estimator or a Pipeline/ColumnTransformer */\n",
              "  background-color: var(--sklearn-color-background);\n",
              "}\n",
              "\n",
              "/* Toggleable label */\n",
              "#sk-container-id-1 label.sk-toggleable__label {\n",
              "  cursor: pointer;\n",
              "  display: flex;\n",
              "  width: 100%;\n",
              "  margin-bottom: 0;\n",
              "  padding: 0.5em;\n",
              "  box-sizing: border-box;\n",
              "  text-align: center;\n",
              "  align-items: start;\n",
              "  justify-content: space-between;\n",
              "  gap: 0.5em;\n",
              "}\n",
              "\n",
              "#sk-container-id-1 label.sk-toggleable__label .caption {\n",
              "  font-size: 0.6rem;\n",
              "  font-weight: lighter;\n",
              "  color: var(--sklearn-color-text-muted);\n",
              "}\n",
              "\n",
              "#sk-container-id-1 label.sk-toggleable__label-arrow:before {\n",
              "  /* Arrow on the left of the label */\n",
              "  content: \"▸\";\n",
              "  float: left;\n",
              "  margin-right: 0.25em;\n",
              "  color: var(--sklearn-color-icon);\n",
              "}\n",
              "\n",
              "#sk-container-id-1 label.sk-toggleable__label-arrow:hover:before {\n",
              "  color: var(--sklearn-color-text);\n",
              "}\n",
              "\n",
              "/* Toggleable content - dropdown */\n",
              "\n",
              "#sk-container-id-1 div.sk-toggleable__content {\n",
              "  max-height: 0;\n",
              "  max-width: 0;\n",
              "  overflow: hidden;\n",
              "  text-align: left;\n",
              "  /* unfitted */\n",
              "  background-color: var(--sklearn-color-unfitted-level-0);\n",
              "}\n",
              "\n",
              "#sk-container-id-1 div.sk-toggleable__content.fitted {\n",
              "  /* fitted */\n",
              "  background-color: var(--sklearn-color-fitted-level-0);\n",
              "}\n",
              "\n",
              "#sk-container-id-1 div.sk-toggleable__content pre {\n",
              "  margin: 0.2em;\n",
              "  border-radius: 0.25em;\n",
              "  color: var(--sklearn-color-text);\n",
              "  /* unfitted */\n",
              "  background-color: var(--sklearn-color-unfitted-level-0);\n",
              "}\n",
              "\n",
              "#sk-container-id-1 div.sk-toggleable__content.fitted pre {\n",
              "  /* unfitted */\n",
              "  background-color: var(--sklearn-color-fitted-level-0);\n",
              "}\n",
              "\n",
              "#sk-container-id-1 input.sk-toggleable__control:checked~div.sk-toggleable__content {\n",
              "  /* Expand drop-down */\n",
              "  max-height: 200px;\n",
              "  max-width: 100%;\n",
              "  overflow: auto;\n",
              "}\n",
              "\n",
              "#sk-container-id-1 input.sk-toggleable__control:checked~label.sk-toggleable__label-arrow:before {\n",
              "  content: \"▾\";\n",
              "}\n",
              "\n",
              "/* Pipeline/ColumnTransformer-specific style */\n",
              "\n",
              "#sk-container-id-1 div.sk-label input.sk-toggleable__control:checked~label.sk-toggleable__label {\n",
              "  color: var(--sklearn-color-text);\n",
              "  background-color: var(--sklearn-color-unfitted-level-2);\n",
              "}\n",
              "\n",
              "#sk-container-id-1 div.sk-label.fitted input.sk-toggleable__control:checked~label.sk-toggleable__label {\n",
              "  background-color: var(--sklearn-color-fitted-level-2);\n",
              "}\n",
              "\n",
              "/* Estimator-specific style */\n",
              "\n",
              "/* Colorize estimator box */\n",
              "#sk-container-id-1 div.sk-estimator input.sk-toggleable__control:checked~label.sk-toggleable__label {\n",
              "  /* unfitted */\n",
              "  background-color: var(--sklearn-color-unfitted-level-2);\n",
              "}\n",
              "\n",
              "#sk-container-id-1 div.sk-estimator.fitted input.sk-toggleable__control:checked~label.sk-toggleable__label {\n",
              "  /* fitted */\n",
              "  background-color: var(--sklearn-color-fitted-level-2);\n",
              "}\n",
              "\n",
              "#sk-container-id-1 div.sk-label label.sk-toggleable__label,\n",
              "#sk-container-id-1 div.sk-label label {\n",
              "  /* The background is the default theme color */\n",
              "  color: var(--sklearn-color-text-on-default-background);\n",
              "}\n",
              "\n",
              "/* On hover, darken the color of the background */\n",
              "#sk-container-id-1 div.sk-label:hover label.sk-toggleable__label {\n",
              "  color: var(--sklearn-color-text);\n",
              "  background-color: var(--sklearn-color-unfitted-level-2);\n",
              "}\n",
              "\n",
              "/* Label box, darken color on hover, fitted */\n",
              "#sk-container-id-1 div.sk-label.fitted:hover label.sk-toggleable__label.fitted {\n",
              "  color: var(--sklearn-color-text);\n",
              "  background-color: var(--sklearn-color-fitted-level-2);\n",
              "}\n",
              "\n",
              "/* Estimator label */\n",
              "\n",
              "#sk-container-id-1 div.sk-label label {\n",
              "  font-family: monospace;\n",
              "  font-weight: bold;\n",
              "  display: inline-block;\n",
              "  line-height: 1.2em;\n",
              "}\n",
              "\n",
              "#sk-container-id-1 div.sk-label-container {\n",
              "  text-align: center;\n",
              "}\n",
              "\n",
              "/* Estimator-specific */\n",
              "#sk-container-id-1 div.sk-estimator {\n",
              "  font-family: monospace;\n",
              "  border: 1px dotted var(--sklearn-color-border-box);\n",
              "  border-radius: 0.25em;\n",
              "  box-sizing: border-box;\n",
              "  margin-bottom: 0.5em;\n",
              "  /* unfitted */\n",
              "  background-color: var(--sklearn-color-unfitted-level-0);\n",
              "}\n",
              "\n",
              "#sk-container-id-1 div.sk-estimator.fitted {\n",
              "  /* fitted */\n",
              "  background-color: var(--sklearn-color-fitted-level-0);\n",
              "}\n",
              "\n",
              "/* on hover */\n",
              "#sk-container-id-1 div.sk-estimator:hover {\n",
              "  /* unfitted */\n",
              "  background-color: var(--sklearn-color-unfitted-level-2);\n",
              "}\n",
              "\n",
              "#sk-container-id-1 div.sk-estimator.fitted:hover {\n",
              "  /* fitted */\n",
              "  background-color: var(--sklearn-color-fitted-level-2);\n",
              "}\n",
              "\n",
              "/* Specification for estimator info (e.g. \"i\" and \"?\") */\n",
              "\n",
              "/* Common style for \"i\" and \"?\" */\n",
              "\n",
              ".sk-estimator-doc-link,\n",
              "a:link.sk-estimator-doc-link,\n",
              "a:visited.sk-estimator-doc-link {\n",
              "  float: right;\n",
              "  font-size: smaller;\n",
              "  line-height: 1em;\n",
              "  font-family: monospace;\n",
              "  background-color: var(--sklearn-color-background);\n",
              "  border-radius: 1em;\n",
              "  height: 1em;\n",
              "  width: 1em;\n",
              "  text-decoration: none !important;\n",
              "  margin-left: 0.5em;\n",
              "  text-align: center;\n",
              "  /* unfitted */\n",
              "  border: var(--sklearn-color-unfitted-level-1) 1pt solid;\n",
              "  color: var(--sklearn-color-unfitted-level-1);\n",
              "}\n",
              "\n",
              ".sk-estimator-doc-link.fitted,\n",
              "a:link.sk-estimator-doc-link.fitted,\n",
              "a:visited.sk-estimator-doc-link.fitted {\n",
              "  /* fitted */\n",
              "  border: var(--sklearn-color-fitted-level-1) 1pt solid;\n",
              "  color: var(--sklearn-color-fitted-level-1);\n",
              "}\n",
              "\n",
              "/* On hover */\n",
              "div.sk-estimator:hover .sk-estimator-doc-link:hover,\n",
              ".sk-estimator-doc-link:hover,\n",
              "div.sk-label-container:hover .sk-estimator-doc-link:hover,\n",
              ".sk-estimator-doc-link:hover {\n",
              "  /* unfitted */\n",
              "  background-color: var(--sklearn-color-unfitted-level-3);\n",
              "  color: var(--sklearn-color-background);\n",
              "  text-decoration: none;\n",
              "}\n",
              "\n",
              "div.sk-estimator.fitted:hover .sk-estimator-doc-link.fitted:hover,\n",
              ".sk-estimator-doc-link.fitted:hover,\n",
              "div.sk-label-container:hover .sk-estimator-doc-link.fitted:hover,\n",
              ".sk-estimator-doc-link.fitted:hover {\n",
              "  /* fitted */\n",
              "  background-color: var(--sklearn-color-fitted-level-3);\n",
              "  color: var(--sklearn-color-background);\n",
              "  text-decoration: none;\n",
              "}\n",
              "\n",
              "/* Span, style for the box shown on hovering the info icon */\n",
              ".sk-estimator-doc-link span {\n",
              "  display: none;\n",
              "  z-index: 9999;\n",
              "  position: relative;\n",
              "  font-weight: normal;\n",
              "  right: .2ex;\n",
              "  padding: .5ex;\n",
              "  margin: .5ex;\n",
              "  width: min-content;\n",
              "  min-width: 20ex;\n",
              "  max-width: 50ex;\n",
              "  color: var(--sklearn-color-text);\n",
              "  box-shadow: 2pt 2pt 4pt #999;\n",
              "  /* unfitted */\n",
              "  background: var(--sklearn-color-unfitted-level-0);\n",
              "  border: .5pt solid var(--sklearn-color-unfitted-level-3);\n",
              "}\n",
              "\n",
              ".sk-estimator-doc-link.fitted span {\n",
              "  /* fitted */\n",
              "  background: var(--sklearn-color-fitted-level-0);\n",
              "  border: var(--sklearn-color-fitted-level-3);\n",
              "}\n",
              "\n",
              ".sk-estimator-doc-link:hover span {\n",
              "  display: block;\n",
              "}\n",
              "\n",
              "/* \"?\"-specific style due to the `<a>` HTML tag */\n",
              "\n",
              "#sk-container-id-1 a.estimator_doc_link {\n",
              "  float: right;\n",
              "  font-size: 1rem;\n",
              "  line-height: 1em;\n",
              "  font-family: monospace;\n",
              "  background-color: var(--sklearn-color-background);\n",
              "  border-radius: 1rem;\n",
              "  height: 1rem;\n",
              "  width: 1rem;\n",
              "  text-decoration: none;\n",
              "  /* unfitted */\n",
              "  color: var(--sklearn-color-unfitted-level-1);\n",
              "  border: var(--sklearn-color-unfitted-level-1) 1pt solid;\n",
              "}\n",
              "\n",
              "#sk-container-id-1 a.estimator_doc_link.fitted {\n",
              "  /* fitted */\n",
              "  border: var(--sklearn-color-fitted-level-1) 1pt solid;\n",
              "  color: var(--sklearn-color-fitted-level-1);\n",
              "}\n",
              "\n",
              "/* On hover */\n",
              "#sk-container-id-1 a.estimator_doc_link:hover {\n",
              "  /* unfitted */\n",
              "  background-color: var(--sklearn-color-unfitted-level-3);\n",
              "  color: var(--sklearn-color-background);\n",
              "  text-decoration: none;\n",
              "}\n",
              "\n",
              "#sk-container-id-1 a.estimator_doc_link.fitted:hover {\n",
              "  /* fitted */\n",
              "  background-color: var(--sklearn-color-fitted-level-3);\n",
              "}\n",
              "</style><div id=\"sk-container-id-1\" class=\"sk-top-container\"><div class=\"sk-text-repr-fallback\"><pre>TfidfVectorizer()</pre><b>In a Jupyter environment, please rerun this cell to show the HTML representation or trust the notebook. <br />On GitHub, the HTML representation is unable to render, please try loading this page with nbviewer.org.</b></div><div class=\"sk-container\" hidden><div class=\"sk-item\"><div class=\"sk-estimator  sk-toggleable\"><input class=\"sk-toggleable__control sk-hidden--visually\" id=\"sk-estimator-id-1\" type=\"checkbox\" checked><label for=\"sk-estimator-id-1\" class=\"sk-toggleable__label  sk-toggleable__label-arrow\"><div><div>TfidfVectorizer</div></div><div><a class=\"sk-estimator-doc-link \" rel=\"noreferrer\" target=\"_blank\" href=\"https://scikit-learn.org/1.6/modules/generated/sklearn.feature_extraction.text.TfidfVectorizer.html\">?<span>Documentation for TfidfVectorizer</span></a><span class=\"sk-estimator-doc-link \">i<span>Not fitted</span></span></div></label><div class=\"sk-toggleable__content \"><pre>TfidfVectorizer()</pre></div> </div></div></div></div>"
            ],
            "text/plain": [
              "TfidfVectorizer()"
            ]
          },
          "execution_count": 28,
          "metadata": {},
          "output_type": "execute_result"
        }
      ],
      "source": [
        "tfidf = TfidfVectorizer()\n",
        "tfidf"
      ]
    },
    {
      "cell_type": "markdown",
      "metadata": {
        "id": "Cwf4kyuf0bXn"
      },
      "source": [
        "<br>\n",
        "\n",
        "<h2 style=\"text-align: center;\"><b>Fitting & Transforming on Tfidf Vectorizer</b></h2>\n",
        "\n",
        "<br>"
      ]
    },
    {
      "cell_type": "code",
      "execution_count": null,
      "metadata": {
        "id": "J1akRbD00bXn"
      },
      "outputs": [],
      "source": [
        "x_train_vec = tfidf.fit_transform(x_train)\n",
        "x_test_vec = tfidf.transform(x_test)"
      ]
    },
    {
      "cell_type": "markdown",
      "metadata": {
        "id": "sIClPEnv0bXn"
      },
      "source": [
        "<br>\n",
        "\n",
        "<h2 style=\"text-align: center;\"><b>x_train & x_test after Fitting & Transforming on Tfidf Vectorizer</b></h2>\n",
        "\n",
        "<br>"
      ]
    },
    {
      "cell_type": "code",
      "execution_count": null,
      "metadata": {
        "id": "Q_adAXnQ0bXn",
        "outputId": "34695109-aafb-4f20-85eb-55549c62775d"
      },
      "outputs": [
        {
          "name": "stdout",
          "output_type": "stream",
          "text": [
            "<Compressed Sparse Row sparse matrix of dtype 'float64'\n",
            "\twith 145999 stored elements and shape (16088, 17797)>\n",
            "  Coords\tValues\n",
            "  (0, 8471)\t0.3962281967701839\n",
            "  (0, 6076)\t0.3178230052211747\n",
            "  (0, 8790)\t0.3158065791659497\n",
            "  (0, 4182)\t0.3178230052211747\n",
            "  (0, 13396)\t0.308600808932536\n",
            "  (0, 17583)\t0.3356266324673983\n",
            "  (0, 15537)\t0.3270452015098133\n",
            "  (0, 7817)\t0.24308907768376517\n",
            "  (0, 2695)\t0.308600808932536\n",
            "  (0, 4539)\t0.2684799375285542\n",
            "  (1, 15448)\t0.7186710934542773\n",
            "  (1, 13635)\t0.6953501703697452\n",
            "  (2, 16205)\t0.29091670624204025\n",
            "  (2, 8733)\t0.29091670624204025\n",
            "  (2, 1164)\t0.1575160893948749\n",
            "  (2, 2662)\t0.2790363838667554\n",
            "  (2, 622)\t0.2465810823039576\n",
            "  (2, 544)\t0.18753607410415798\n",
            "  (2, 1864)\t0.3406850616655851\n",
            "  (2, 6395)\t0.1636532790700868\n",
            "  (2, 8433)\t0.29456751284993166\n",
            "  (2, 5374)\t0.3672357020297607\n",
            "  (2, 8798)\t0.3562161906487613\n",
            "  (2, 7417)\t0.1916109198452859\n",
            "  (2, 16105)\t0.09486420461180206\n",
            "  :\t:\n",
            "  (16084, 1298)\t0.4161743218950378\n",
            "  (16084, 11335)\t0.4395967429083363\n",
            "  (16085, 14115)\t1.0\n",
            "  (16086, 6244)\t0.12680429863598583\n",
            "  (16086, 10611)\t0.21163048828293454\n",
            "  (16086, 15975)\t0.17974456529914395\n",
            "  (16086, 17503)\t0.14935381017027444\n",
            "  (16086, 10435)\t0.1940407512814406\n",
            "  (16086, 5852)\t0.2773644426128227\n",
            "  (16086, 17288)\t0.2925355498770664\n",
            "  (16086, 1760)\t0.23176608266980636\n",
            "  (16086, 12252)\t0.3334946360708898\n",
            "  (16086, 3205)\t0.28722356398322735\n",
            "  (16086, 6928)\t0.34768345140224755\n",
            "  (16086, 12130)\t0.3975193670335897\n",
            "  (16086, 10992)\t0.3975193670335897\n",
            "  (16087, 15928)\t0.10690050387823495\n",
            "  (16087, 6244)\t0.15458400436157566\n",
            "  (16087, 7924)\t0.13675503127779848\n",
            "  (16087, 2718)\t0.3213063927161871\n",
            "  (16087, 5114)\t0.3213063927161871\n",
            "  (16087, 10464)\t0.4313280118417789\n",
            "  (16087, 17549)\t0.3640985603042342\n",
            "  (16087, 11960)\t0.4313280118417789\n",
            "  (16087, 139)\t0.48460609165730817\n"
          ]
        }
      ],
      "source": [
        "print(x_train_vec)"
      ]
    },
    {
      "cell_type": "code",
      "execution_count": null,
      "metadata": {
        "id": "t5AJgIMn0bXo",
        "outputId": "74a7cccc-9c98-4e1f-cd98-58f8ec110611"
      },
      "outputs": [
        {
          "name": "stdout",
          "output_type": "stream",
          "text": [
            "<Compressed Sparse Row sparse matrix of dtype 'float64'\n",
            "\twith 34102 stored elements and shape (4023, 17797)>\n",
            "  Coords\tValues\n",
            "  (0, 234)\t0.35419544436164274\n",
            "  (0, 400)\t0.29289648771541105\n",
            "  (0, 1976)\t0.36515244416317555\n",
            "  (0, 3760)\t0.247423343912574\n",
            "  (0, 4934)\t0.3328812553157792\n",
            "  (0, 4944)\t0.34569653503918946\n",
            "  (0, 6138)\t0.2457303014872486\n",
            "  (0, 9373)\t0.38059546802353195\n",
            "  (0, 11566)\t0.2969093729790407\n",
            "  (0, 11820)\t0.22371294447145618\n",
            "  (0, 17503)\t0.14299525506652905\n",
            "  (1, 1546)\t0.19533979179969196\n",
            "  (1, 3220)\t0.4285673450255798\n",
            "  (1, 3744)\t0.2293793847003358\n",
            "  (1, 4556)\t0.4285673450255798\n",
            "  (1, 6244)\t0.13670826156166427\n",
            "  (1, 14855)\t0.3219950306104833\n",
            "  (1, 15110)\t0.3988397497177744\n",
            "  (1, 16299)\t0.41117781653389945\n",
            "  (1, 16334)\t0.3022866750090369\n",
            "  (2, 824)\t0.12466044421640635\n",
            "  (2, 1164)\t0.16844174492631095\n",
            "  (2, 1564)\t0.3359234619695171\n",
            "  (2, 5811)\t0.32165634666741494\n",
            "  (2, 6036)\t0.26609466455262026\n",
            "  :\t:\n",
            "  (4020, 11276)\t0.22292393671498775\n",
            "  (4020, 15926)\t0.20235531722090602\n",
            "  (4020, 16105)\t0.11029177171897901\n",
            "  (4021, 4892)\t0.279329519493241\n",
            "  (4021, 4988)\t0.31529012411918733\n",
            "  (4021, 5877)\t0.36733304486182494\n",
            "  (4021, 8269)\t0.16733727492982117\n",
            "  (4021, 10812)\t0.1962910395505096\n",
            "  (4021, 10984)\t0.36967846757138567\n",
            "  (4021, 11070)\t0.1383293853953489\n",
            "  (4021, 13204)\t0.3747433192750354\n",
            "  (4021, 14387)\t0.4608761171603702\n",
            "  (4021, 15975)\t0.21720563088798026\n",
            "  (4021, 17670)\t0.2555128773409391\n",
            "  (4022, 544)\t0.19730369336758025\n",
            "  (4022, 1706)\t0.1913564491984201\n",
            "  (4022, 2635)\t0.2978156793691747\n",
            "  (4022, 7640)\t0.3079435316080012\n",
            "  (4022, 8807)\t0.3272700992381824\n",
            "  (4022, 13704)\t0.40270283900425574\n",
            "  (4022, 13868)\t0.40270283900425574\n",
            "  (4022, 13917)\t0.34208923343250486\n",
            "  (4022, 15122)\t0.22069652092452494\n",
            "  (4022, 16105)\t0.09980510697846265\n",
            "  (4022, 17594)\t0.365776757188313\n"
          ]
        }
      ],
      "source": [
        "print(x_test_vec)"
      ]
    },
    {
      "cell_type": "markdown",
      "metadata": {
        "id": "_EHsFpYf0bXo"
      },
      "source": [
        "<br>\n",
        "\n",
        "<h2 style=\"text-align: center;\"><b>Shape of x_train_vec and x_test_vec and no. of Vocabulary</b></h2>\n",
        "\n",
        "<br>"
      ]
    },
    {
      "cell_type": "code",
      "execution_count": null,
      "metadata": {
        "id": "o-4FswBg0bXo",
        "outputId": "a737e8d2-804a-4e8d-97f1-9b67957ee85a"
      },
      "outputs": [
        {
          "name": "stdout",
          "output_type": "stream",
          "text": [
            "Shape of x_train_tfidf: (16088, 17797),\n",
            "Shape of x_test_tfidf: (4023, 17797)\n",
            "\n",
            "There are 16088 samples in x_train_tfidf and 4023 samples in x_test_tfidf.\n",
            "Our vocabulary contains 17797 unique words (features).\n"
          ]
        }
      ],
      "source": [
        "print(f\"Shape of x_train_tfidf: {x_train_vec.shape},\\nShape of x_test_tfidf: {x_test_vec.shape}\")\n",
        "\n",
        "# Extracting the vocabulary size\n",
        "vocab_size = x_train_vec.shape[1]\n",
        "\n",
        "print(f\"\\nThere are {x_train_vec.shape[0]} samples in x_train_tfidf and {x_test_vec.shape[0]} samples in x_test_tfidf.\")\n",
        "print(f\"Our vocabulary contains {vocab_size} unique words (features).\")\n"
      ]
    },
    {
      "cell_type": "markdown",
      "metadata": {
        "id": "B5p_-jmP0bXq"
      },
      "source": [
        "<br>\n",
        "\n",
        "<h2 style=\"text-align: center;\"><b>x_train_vec to numpy array</b></h2>\n",
        "\n",
        "<br>"
      ]
    },
    {
      "cell_type": "code",
      "execution_count": null,
      "metadata": {
        "id": "SJi9GIYx0bXq",
        "outputId": "296e4826-6548-40d9-9ef2-48c28f797d55"
      },
      "outputs": [
        {
          "data": {
            "text/plain": [
              "array([[0., 0., 0., ..., 0., 0., 0.],\n",
              "       [0., 0., 0., ..., 0., 0., 0.],\n",
              "       [0., 0., 0., ..., 0., 0., 0.],\n",
              "       ...,\n",
              "       [0., 0., 0., ..., 0., 0., 0.],\n",
              "       [0., 0., 0., ..., 0., 0., 0.],\n",
              "       [0., 0., 0., ..., 0., 0., 0.]], shape=(16088, 17797))"
            ]
          },
          "execution_count": 34,
          "metadata": {},
          "output_type": "execute_result"
        }
      ],
      "source": [
        "x_train_vec.toarray()"
      ]
    },
    {
      "cell_type": "markdown",
      "metadata": {
        "id": "h9Q8hQtW0bXq"
      },
      "source": [
        "<br>\n",
        "<h1 style=\"text-align: center; color: red\"><b>5. Importing and Creating our PipeLine Module<b></h1>\n",
        "\n",
        "- PipeLine Module\n",
        "    \n",
        "<h3 style=\"text-align: center; color: red\"><b>Fitting & Predicting on PipeLine of 7 Machine Learning Algorithms<b></h3>\n",
        "\n",
        "| ML Algorithms |\n",
        "|:--------|\n",
        "| 1. Logistic Regression (LogReg)|\n",
        "| 2. Support Vector Machine (SVM)|\n",
        "| 3. Naive Bayes Classifier (NBC)|\n",
        "| 4. K-Nearest Neighbour (KNN)|\n",
        "| 5. Decision Tree Classifier (DTC) |\n",
        "| 6. Adaptive Boost (AdaBoost) |\n",
        "\n",
        "\n",
        "<br>"
      ]
    },
    {
      "cell_type": "markdown",
      "metadata": {
        "id": "gItLOEGO0bXr"
      },
      "source": [
        "<br>\n",
        "\n",
        "<h2 style=\"text-align: center;\"><b>Loading Machine Learning Algorithms</b></h2>\n",
        "\n",
        "<br>"
      ]
    },
    {
      "cell_type": "code",
      "execution_count": null,
      "metadata": {
        "id": "E9b5J3z50bXs"
      },
      "outputs": [],
      "source": [
        "from sklearn.pipeline import make_pipeline\n",
        "from sklearn.naive_bayes import MultinomialNB\n",
        "from sklearn.metrics import accuracy_score, classification_report\n",
        "\n",
        "from sklearn.linear_model import LogisticRegression\n",
        "from sklearn.svm import LinearSVC\n",
        "from sklearn.neighbors import KNeighborsClassifier\n",
        "from sklearn.tree import DecisionTreeClassifier\n",
        "from sklearn.ensemble import AdaBoostClassifier\n"
      ]
    },
    {
      "cell_type": "markdown",
      "metadata": {
        "id": "lRUtZUgz0bXs"
      },
      "source": [
        "<br>\n",
        "\n",
        "<h2 style=\"text-align: center;\"><b>Creating Pipeline of 6 Different ML Algorithms</b></h2>\n",
        "\n",
        "<br>"
      ]
    },
    {
      "cell_type": "code",
      "execution_count": null,
      "metadata": {
        "id": "_uDolaMg0bXs"
      },
      "outputs": [],
      "source": [
        "models = {\n",
        "    \"Naïve Bayes\": MultinomialNB(),\n",
        "    \"Logistic Regression\": LogisticRegression(),\n",
        "    \"Linear SVC\": LinearSVC(),\n",
        "    \"Decision Tree\": DecisionTreeClassifier(),\n",
        "    \"KNN\": KNeighborsClassifier(n_neighbors=5),\n",
        "    \"AdaBoost\": AdaBoostClassifier(),\n",
        "}"
      ]
    },
    {
      "cell_type": "markdown",
      "metadata": {
        "id": "o1_h4AK50bXt"
      },
      "source": [
        "<br>\n",
        "\n",
        "<h2 style=\"text-align: center;\"><b>Fitting & Predicting Data on Algorithms</b></h2>\n",
        "\n",
        "<br>"
      ]
    },
    {
      "cell_type": "code",
      "execution_count": null,
      "metadata": {
        "scrolled": true,
        "id": "jToEED_h0bXt",
        "outputId": "5d80ca9b-5cd0-41ae-fa89-f1d4be9915d8"
      },
      "outputs": [
        {
          "name": "stdout",
          "output_type": "stream",
          "text": [
            "\n",
            "__________________________________________________ 1. Training Naïve Bayes __________________________________________________\n",
            "\n",
            "Naïve Bayes Predictions: \n",
            "['TRAVEL' 'WELLNESS' 'ENTERTAINMENT' ... 'POLITICS' 'WELLNESS'\n",
            " 'ENTERTAINMENT']\n",
            "\n",
            "Naïve Bayes Accuracy Score: 81.407 %\n",
            "\n",
            "Naïve Bayes Classification Report:\n",
            "                precision    recall  f1-score   support\n",
            "\n",
            " ENTERTAINMENT       0.78      0.86      0.82       967\n",
            "      POLITICS       0.86      0.85      0.85       955\n",
            "STYLE & BEAUTY       1.00      0.04      0.07       186\n",
            "        TRAVEL       0.82      0.85      0.83      1001\n",
            "      WELLNESS       0.80      0.85      0.82       914\n",
            "\n",
            "      accuracy                           0.81      4023\n",
            "     macro avg       0.85      0.69      0.68      4023\n",
            "  weighted avg       0.82      0.81      0.80      4023\n",
            "\n",
            "\n",
            "__________________________________________________ 2. Training Logistic Regression __________________________________________________\n",
            "\n",
            "Logistic Regression Predictions: \n",
            "['TRAVEL' 'WELLNESS' 'ENTERTAINMENT' ... 'POLITICS' 'WELLNESS'\n",
            " 'ENTERTAINMENT']\n",
            "\n",
            "Logistic Regression Accuracy Score: 83.296 %\n",
            "\n",
            "Logistic Regression Classification Report:\n",
            "                precision    recall  f1-score   support\n",
            "\n",
            " ENTERTAINMENT       0.82      0.86      0.84       967\n",
            "      POLITICS       0.87      0.84      0.85       955\n",
            "STYLE & BEAUTY       0.92      0.49      0.64       186\n",
            "        TRAVEL       0.85      0.83      0.84      1001\n",
            "      WELLNESS       0.78      0.86      0.82       914\n",
            "\n",
            "      accuracy                           0.83      4023\n",
            "     macro avg       0.85      0.78      0.80      4023\n",
            "  weighted avg       0.84      0.83      0.83      4023\n",
            "\n",
            "\n",
            "__________________________________________________ 3. Training Linear SVC __________________________________________________\n",
            "\n",
            "Linear SVC Predictions: \n",
            "['TRAVEL' 'WELLNESS' 'ENTERTAINMENT' ... 'POLITICS' 'WELLNESS'\n",
            " 'ENTERTAINMENT']\n",
            "\n",
            "Linear SVC Accuracy Score: 85.111 %\n",
            "\n",
            "Linear SVC Classification Report:\n",
            "                precision    recall  f1-score   support\n",
            "\n",
            " ENTERTAINMENT       0.85      0.86      0.86       967\n",
            "      POLITICS       0.88      0.85      0.86       955\n",
            "STYLE & BEAUTY       0.85      0.66      0.74       186\n",
            "        TRAVEL       0.87      0.85      0.86      1001\n",
            "      WELLNESS       0.81      0.88      0.84       914\n",
            "\n",
            "      accuracy                           0.85      4023\n",
            "     macro avg       0.85      0.82      0.83      4023\n",
            "  weighted avg       0.85      0.85      0.85      4023\n",
            "\n",
            "\n",
            "__________________________________________________ 4. Training Decision Tree __________________________________________________\n",
            "\n",
            "Decision Tree Predictions: \n",
            "['POLITICS' 'ENTERTAINMENT' 'WELLNESS' ... 'ENTERTAINMENT' 'TRAVEL'\n",
            " 'ENTERTAINMENT']\n",
            "\n",
            "Decision Tree Accuracy Score: 58.514 %\n",
            "\n",
            "Decision Tree Classification Report:\n",
            "                precision    recall  f1-score   support\n",
            "\n",
            " ENTERTAINMENT       0.60      0.56      0.58       967\n",
            "      POLITICS       0.60      0.53      0.56       955\n",
            "STYLE & BEAUTY       0.62      0.42      0.50       186\n",
            "        TRAVEL       0.63      0.62      0.63      1001\n",
            "      WELLNESS       0.52      0.66      0.58       914\n",
            "\n",
            "      accuracy                           0.59      4023\n",
            "     macro avg       0.59      0.56      0.57      4023\n",
            "  weighted avg       0.59      0.59      0.58      4023\n",
            "\n",
            "\n",
            "__________________________________________________ 5. Training KNN __________________________________________________\n",
            "\n",
            "KNN Predictions: \n",
            "['TRAVEL' 'WELLNESS' 'ENTERTAINMENT' ... 'TRAVEL' 'WELLNESS'\n",
            " 'ENTERTAINMENT']\n",
            "\n",
            "KNN Accuracy Score: 75.391 %\n",
            "\n",
            "KNN Classification Report:\n",
            "                precision    recall  f1-score   support\n",
            "\n",
            " ENTERTAINMENT       0.79      0.75      0.77       967\n",
            "      POLITICS       0.80      0.78      0.79       955\n",
            "STYLE & BEAUTY       0.83      0.41      0.55       186\n",
            "        TRAVEL       0.76      0.77      0.76      1001\n",
            "      WELLNESS       0.67      0.78      0.72       914\n",
            "\n",
            "      accuracy                           0.75      4023\n",
            "     macro avg       0.77      0.70      0.72      4023\n",
            "  weighted avg       0.76      0.75      0.75      4023\n",
            "\n",
            "\n",
            "__________________________________________________ 6. Training AdaBoost __________________________________________________\n",
            "\n",
            "AdaBoost Predictions: \n",
            "['POLITICS' 'ENTERTAINMENT' 'ENTERTAINMENT' ... 'ENTERTAINMENT'\n",
            " 'ENTERTAINMENT' 'ENTERTAINMENT']\n",
            "\n",
            "AdaBoost Accuracy Score: 35.521 %\n",
            "\n",
            "AdaBoost Classification Report:\n",
            "                precision    recall  f1-score   support\n",
            "\n",
            " ENTERTAINMENT       0.28      0.96      0.44       967\n",
            "      POLITICS       0.50      0.10      0.16       955\n",
            "STYLE & BEAUTY       1.00      0.04      0.07       186\n",
            "        TRAVEL       0.74      0.27      0.39      1001\n",
            "      WELLNESS       0.69      0.15      0.25       914\n",
            "\n",
            "      accuracy                           0.36      4023\n",
            "     macro avg       0.64      0.30      0.26      4023\n",
            "  weighted avg       0.57      0.36      0.30      4023\n",
            "\n"
          ]
        }
      ],
      "source": [
        "accuracies = {}\n",
        "num = 1\n",
        "\n",
        "for name, model in models.items():\n",
        "    print(f\"\\n{'_' * 50} {num}. Training {name} {'_' * 50}\")\n",
        "    num += 1\n",
        "\n",
        "    pipeline = make_pipeline(model)\n",
        "\n",
        "    pipeline.fit(x_train_vec, y_train)\n",
        "    y_pred = pipeline.predict(x_test_vec)\n",
        "    acc = accuracy_score(y_test, y_pred) * 100\n",
        "    accuracies[name] = acc\n",
        "\n",
        "    print(f\"\\n{name} Predictions: \\n{y_pred}\")\n",
        "    print(f\"\\n{name} Accuracy Score: {acc:.3f} %\")\n",
        "    print(f\"\\n{name} Classification Report:\\n{classification_report(y_test, y_pred)}\")"
      ]
    },
    {
      "cell_type": "markdown",
      "metadata": {
        "id": "6d2qewyd0bXt"
      },
      "source": [
        "<br>\n",
        "\n",
        "<h2 style=\"text-align: center;\"><b>Creating DataFrame of Model with their Respective Accuracies</b></h2>\n",
        "\n",
        "<br>"
      ]
    },
    {
      "cell_type": "code",
      "execution_count": null,
      "metadata": {
        "id": "T5BcW5us0bXt",
        "outputId": "1c22693b-511c-4f2f-ee47-a0095a742185"
      },
      "outputs": [
        {
          "data": {
            "text/html": [
              "<div>\n",
              "<style scoped>\n",
              "    .dataframe tbody tr th:only-of-type {\n",
              "        vertical-align: middle;\n",
              "    }\n",
              "\n",
              "    .dataframe tbody tr th {\n",
              "        vertical-align: top;\n",
              "    }\n",
              "\n",
              "    .dataframe thead th {\n",
              "        text-align: right;\n",
              "    }\n",
              "</style>\n",
              "<table border=\"1\" class=\"dataframe\">\n",
              "  <thead>\n",
              "    <tr style=\"text-align: right;\">\n",
              "      <th></th>\n",
              "      <th>Model Name</th>\n",
              "      <th>Model Accuracy</th>\n",
              "    </tr>\n",
              "  </thead>\n",
              "  <tbody>\n",
              "    <tr>\n",
              "      <th>0</th>\n",
              "      <td>Linear SVC</td>\n",
              "      <td>85.110614</td>\n",
              "    </tr>\n",
              "    <tr>\n",
              "      <th>1</th>\n",
              "      <td>Logistic Regression</td>\n",
              "      <td>83.296048</td>\n",
              "    </tr>\n",
              "    <tr>\n",
              "      <th>2</th>\n",
              "      <td>Naïve Bayes</td>\n",
              "      <td>81.406910</td>\n",
              "    </tr>\n",
              "    <tr>\n",
              "      <th>3</th>\n",
              "      <td>KNN</td>\n",
              "      <td>75.391499</td>\n",
              "    </tr>\n",
              "    <tr>\n",
              "      <th>4</th>\n",
              "      <td>Decision Tree</td>\n",
              "      <td>58.513547</td>\n",
              "    </tr>\n",
              "    <tr>\n",
              "      <th>5</th>\n",
              "      <td>AdaBoost</td>\n",
              "      <td>35.520756</td>\n",
              "    </tr>\n",
              "  </tbody>\n",
              "</table>\n",
              "</div>"
            ],
            "text/plain": [
              "            Model Name  Model Accuracy\n",
              "0           Linear SVC       85.110614\n",
              "1  Logistic Regression       83.296048\n",
              "2          Naïve Bayes       81.406910\n",
              "3                  KNN       75.391499\n",
              "4        Decision Tree       58.513547\n",
              "5             AdaBoost       35.520756"
            ]
          },
          "execution_count": 41,
          "metadata": {},
          "output_type": "execute_result"
        }
      ],
      "source": [
        "import pandas as pd\n",
        "\n",
        "accuracy_df = pd.DataFrame(list(accuracies.items()), columns=[\"Model Name\", \"Model Accuracy\"])\n",
        "\n",
        "accuracy_df = accuracy_df.sort_values(by=\"Model Accuracy\", ascending=False)\n",
        "\n",
        "accuracy_df.reset_index(drop=True, inplace=True)\n",
        "\n",
        "accuracy_df\n"
      ]
    },
    {
      "cell_type": "markdown",
      "metadata": {
        "id": "6wOCeK7f0bXu"
      },
      "source": [
        "#### Hence Linear SVC is the best model in this case, with an overall accuracy of 85.110614"
      ]
    },
    {
      "cell_type": "code",
      "execution_count": null,
      "metadata": {
        "id": "nWqlJCMI0bXu",
        "outputId": "9609fa4e-6189-4327-d3d7-ca6113c1c452"
      },
      "outputs": [
        {
          "name": "stdout",
          "output_type": "stream",
          "text": [
            "                precision    recall  f1-score   support\n",
            "\n",
            " ENTERTAINMENT       0.85      0.86      0.86       967\n",
            "      POLITICS       0.88      0.85      0.86       955\n",
            "STYLE & BEAUTY       0.85      0.66      0.74       186\n",
            "        TRAVEL       0.87      0.85      0.86      1001\n",
            "      WELLNESS       0.81      0.88      0.84       914\n",
            "\n",
            "      accuracy                           0.85      4023\n",
            "     macro avg       0.85      0.82      0.83      4023\n",
            "  weighted avg       0.85      0.85      0.85      4023\n",
            "\n"
          ]
        }
      ],
      "source": [
        "linsvc = LinearSVC()\n",
        "linsvc.fit(x_train_vec, y_train)\n",
        "y_pred = linsvc.predict(x_test_vec)\n",
        "print(classification_report(y_test, y_pred))"
      ]
    },
    {
      "cell_type": "markdown",
      "metadata": {
        "id": "zoj9Ow2g0bXu"
      },
      "source": [
        "<br>\n",
        "<h1 style=\"text-align: center; color: red\"><b>6. Extracting Keywords<b></h1>\n",
        "<br>"
      ]
    },
    {
      "cell_type": "code",
      "execution_count": null,
      "metadata": {
        "id": "Low-hHyO0bXv",
        "outputId": "b39cbbfe-f53b-4c87-d006-220d021b1279"
      },
      "outputs": [
        {
          "name": "stdin",
          "output_type": "stream",
          "text": [
            "Wanna extract words from x_train_vec (a) or x_test_vec (b), a or b?:  a\n",
            "Enter Sentence Index:  10\n"
          ]
        },
        {
          "name": "stdout",
          "output_type": "stream",
          "text": [
            "\n",
            "Original Sentence of x_train: \n",
            "Do You Want to Loosen the Grip of Fear?\n",
            "\n",
            "Extracted Words in Sentence with index 10 of a: \n",
            "[(np.int32(16105), 'to'), (np.int32(15928), 'the'), (np.int32(17712), 'you'), (np.int32(11070), 'of'), (np.int32(4779), 'do'), (np.int32(17184), 'want'), (np.int32(9406), 'loosen'), (np.int32(6973), 'grip'), (np.int32(5880), 'fear')]\n",
            "\n",
            "Word: to  (Vocab Index: 16105)\n",
            "\n",
            "Word: the  (Vocab Index: 15928)\n",
            "\n",
            "Word: you  (Vocab Index: 17712)\n",
            "\n",
            "Word: of  (Vocab Index: 11070)\n",
            "\n",
            "Word: do  (Vocab Index: 4779)\n",
            "\n",
            "Word: want  (Vocab Index: 17184)\n",
            "\n",
            "Word: loosen  (Vocab Index: 9406)\n",
            "\n",
            "Word: grip  (Vocab Index: 6973)\n",
            "\n",
            "Word: fear  (Vocab Index: 5880)\n"
          ]
        }
      ],
      "source": [
        "askdata = str(input(\"Wanna extract words from x_train_vec (a) or x_test_vec (b), a or b?: \"))\n",
        "ask = int(input('Enter Sentence Index: '))\n",
        "\n",
        "feature_names = tfidf.get_feature_names_out()  # Get vocabulary words\n",
        "\n",
        "if askdata == 'a':\n",
        "    word_indices = x_train_vec[ask].indices  # Get nonzero indices\n",
        "    words_in_doc = [(i, feature_names[i]) for i in word_indices]  # (index, word)\n",
        "\n",
        "    print(f\"\\nOriginal Sentence of x_train: \\n{x_train.iloc[ask]}\")\n",
        "    print(f\"\\nExtracted Words in Sentence with index {ask} of {askdata}: \\n{words_in_doc}\")\n",
        "    for idx, word in words_in_doc:\n",
        "        print(f\"\\nWord: {word}  (Vocab Index: {idx})\")\n",
        "\n",
        "elif askdata == 'b':\n",
        "    word_indices = x_test_vec[ask].indices  # Get nonzero indices\n",
        "    words_in_doc = [(i, feature_names[i]) for i in word_indices]  # (index, word)\n",
        "\n",
        "    print(f\"\\nOriginal Sentence of x_test: \\n{x_test.iloc[ask]}\")\n",
        "    print(f\"\\nExtracted Words in Sentence with index {ask} of {askdata}: \\n{words_in_doc}\")\n",
        "    for idx, word in words_in_doc:\n",
        "        print(f\"\\nWord: {word}  (Vocab Index: {idx})\")\n",
        "\n",
        "else:\n",
        "    print(\"\\nInvalid Input\\nEnter x_train_vec or x_test_vec\")\n"
      ]
    },
    {
      "cell_type": "markdown",
      "metadata": {
        "id": "ayJoCWdE0bXv"
      },
      "source": [
        "<br>\n",
        "\n",
        "<h2 style=\"text-align: center;\"><b>Enter News Headline and Get Category</b></h2>\n",
        "\n",
        "<br>"
      ]
    },
    {
      "cell_type": "code",
      "execution_count": null,
      "metadata": {
        "id": "SHruC5Sg0bXv",
        "outputId": "c2ef7989-fff2-45c8-ee74-fb061cc0a6d5"
      },
      "outputs": [
        {
          "name": "stdout",
          "output_type": "stream",
          "text": [
            "Categories Available: ['ENTERTAINMENT', 'TRAVEL', 'WELLNESS', 'POLITICS', 'STYLE & BEAUTY']\n"
          ]
        },
        {
          "name": "stdin",
          "output_type": "stream",
          "text": [
            "Enter sentence:  Military planning for Ukraine peace to begin, says Starmer.\n"
          ]
        },
        {
          "name": "stdout",
          "output_type": "stream",
          "text": [
            "\n",
            "Headline: Military planning for Ukraine peace to begin, says Starmer.\n",
            "Category: POLITICS\n"
          ]
        }
      ],
      "source": [
        "print(f\"Categories Available: {list(y_train.value_counts().index)}\")\n",
        "sentence = str(input(\"Enter sentence: \"))\n",
        "headline = tfidf.transform([sentence])\n",
        "sent_pred = linsvc.predict(headline)\n",
        "\n",
        "print(f\"\\nHeadline: {sentence}\")\n",
        "print(f\"Category: {sent_pred[0]}\")  # Extract category from array\n"
      ]
    },
    {
      "cell_type": "markdown",
      "metadata": {
        "id": "e54-X4980bXw"
      },
      "source": [
        "<br>\n",
        "<h1 style=\"text-align: center; color: red\"><b>7. Saving & Loading Model & Vectorizer<b></h1>\n",
        "<br>"
      ]
    },
    {
      "cell_type": "markdown",
      "metadata": {
        "id": "EAb0LWhD0bXw"
      },
      "source": [
        "<br>\n",
        "\n",
        "<h2 style=\"text-align: center;\"><b>Saving Model</b></h2>\n",
        "\n",
        "- joblib\n",
        "\n",
        "<br>"
      ]
    },
    {
      "cell_type": "code",
      "execution_count": null,
      "metadata": {
        "id": "lCcQNaEI0bXx",
        "outputId": "e7168082-5288-4bdd-d36e-426e64c83140"
      },
      "outputs": [
        {
          "name": "stdout",
          "output_type": "stream",
          "text": [
            "Model and vectorizer saved successfully!\n"
          ]
        }
      ],
      "source": [
        "import joblib\n",
        "\n",
        "joblib.dump(tfidf, \"tfidf_vectorizer.pkl\")\n",
        "\n",
        "joblib.dump(linsvc, \"news_classifier_model.pkl\")\n",
        "\n",
        "print(\"Model and vectorizer saved successfully!\")\n"
      ]
    },
    {
      "cell_type": "markdown",
      "metadata": {
        "id": "4mf_u-GU0bXy"
      },
      "source": [
        "<br>\n",
        "\n",
        "<h2 style=\"text-align: center;\"><b>Loading Model</b></h2>\n",
        "\n",
        "- joblib\n",
        "\n",
        "<br>"
      ]
    },
    {
      "cell_type": "code",
      "execution_count": null,
      "metadata": {
        "id": "n3nzqu7M0bXy",
        "outputId": "63117faa-473b-46a0-ea2e-e0e45af44672"
      },
      "outputs": [
        {
          "name": "stdout",
          "output_type": "stream",
          "text": [
            "Model and vectorizer loaded successfully!\n"
          ]
        }
      ],
      "source": [
        "import joblib\n",
        "\n",
        "load_tfidf = joblib.load(\"tfidf_vectorizer.pkl\")\n",
        "\n",
        "load_linsvc = joblib.load(\"news_classifier_model.pkl\")\n",
        "\n",
        "print(\"Model and vectorizer loaded successfully!\")\n"
      ]
    },
    {
      "cell_type": "markdown",
      "metadata": {
        "id": "Z2hkuk9a0bXz"
      },
      "source": [
        "<br>\n",
        "\n",
        "<h2 style=\"text-align: center;\"><b>Verifying Data on Loaded Model and Vectorizer</b></h2>\n",
        "\n",
        "<br>"
      ]
    },
    {
      "cell_type": "code",
      "execution_count": null,
      "metadata": {
        "id": "3ThhcdK-0bXz",
        "outputId": "d9887833-d3f0-49f1-c4a5-4c771535bc1e"
      },
      "outputs": [
        {
          "data": {
            "text/html": [
              "<style>#sk-container-id-2 {\n",
              "  /* Definition of color scheme common for light and dark mode */\n",
              "  --sklearn-color-text: #000;\n",
              "  --sklearn-color-text-muted: #666;\n",
              "  --sklearn-color-line: gray;\n",
              "  /* Definition of color scheme for unfitted estimators */\n",
              "  --sklearn-color-unfitted-level-0: #fff5e6;\n",
              "  --sklearn-color-unfitted-level-1: #f6e4d2;\n",
              "  --sklearn-color-unfitted-level-2: #ffe0b3;\n",
              "  --sklearn-color-unfitted-level-3: chocolate;\n",
              "  /* Definition of color scheme for fitted estimators */\n",
              "  --sklearn-color-fitted-level-0: #f0f8ff;\n",
              "  --sklearn-color-fitted-level-1: #d4ebff;\n",
              "  --sklearn-color-fitted-level-2: #b3dbfd;\n",
              "  --sklearn-color-fitted-level-3: cornflowerblue;\n",
              "\n",
              "  /* Specific color for light theme */\n",
              "  --sklearn-color-text-on-default-background: var(--sg-text-color, var(--theme-code-foreground, var(--jp-content-font-color1, black)));\n",
              "  --sklearn-color-background: var(--sg-background-color, var(--theme-background, var(--jp-layout-color0, white)));\n",
              "  --sklearn-color-border-box: var(--sg-text-color, var(--theme-code-foreground, var(--jp-content-font-color1, black)));\n",
              "  --sklearn-color-icon: #696969;\n",
              "\n",
              "  @media (prefers-color-scheme: dark) {\n",
              "    /* Redefinition of color scheme for dark theme */\n",
              "    --sklearn-color-text-on-default-background: var(--sg-text-color, var(--theme-code-foreground, var(--jp-content-font-color1, white)));\n",
              "    --sklearn-color-background: var(--sg-background-color, var(--theme-background, var(--jp-layout-color0, #111)));\n",
              "    --sklearn-color-border-box: var(--sg-text-color, var(--theme-code-foreground, var(--jp-content-font-color1, white)));\n",
              "    --sklearn-color-icon: #878787;\n",
              "  }\n",
              "}\n",
              "\n",
              "#sk-container-id-2 {\n",
              "  color: var(--sklearn-color-text);\n",
              "}\n",
              "\n",
              "#sk-container-id-2 pre {\n",
              "  padding: 0;\n",
              "}\n",
              "\n",
              "#sk-container-id-2 input.sk-hidden--visually {\n",
              "  border: 0;\n",
              "  clip: rect(1px 1px 1px 1px);\n",
              "  clip: rect(1px, 1px, 1px, 1px);\n",
              "  height: 1px;\n",
              "  margin: -1px;\n",
              "  overflow: hidden;\n",
              "  padding: 0;\n",
              "  position: absolute;\n",
              "  width: 1px;\n",
              "}\n",
              "\n",
              "#sk-container-id-2 div.sk-dashed-wrapped {\n",
              "  border: 1px dashed var(--sklearn-color-line);\n",
              "  margin: 0 0.4em 0.5em 0.4em;\n",
              "  box-sizing: border-box;\n",
              "  padding-bottom: 0.4em;\n",
              "  background-color: var(--sklearn-color-background);\n",
              "}\n",
              "\n",
              "#sk-container-id-2 div.sk-container {\n",
              "  /* jupyter's `normalize.less` sets `[hidden] { display: none; }`\n",
              "     but bootstrap.min.css set `[hidden] { display: none !important; }`\n",
              "     so we also need the `!important` here to be able to override the\n",
              "     default hidden behavior on the sphinx rendered scikit-learn.org.\n",
              "     See: https://github.com/scikit-learn/scikit-learn/issues/21755 */\n",
              "  display: inline-block !important;\n",
              "  position: relative;\n",
              "}\n",
              "\n",
              "#sk-container-id-2 div.sk-text-repr-fallback {\n",
              "  display: none;\n",
              "}\n",
              "\n",
              "div.sk-parallel-item,\n",
              "div.sk-serial,\n",
              "div.sk-item {\n",
              "  /* draw centered vertical line to link estimators */\n",
              "  background-image: linear-gradient(var(--sklearn-color-text-on-default-background), var(--sklearn-color-text-on-default-background));\n",
              "  background-size: 2px 100%;\n",
              "  background-repeat: no-repeat;\n",
              "  background-position: center center;\n",
              "}\n",
              "\n",
              "/* Parallel-specific style estimator block */\n",
              "\n",
              "#sk-container-id-2 div.sk-parallel-item::after {\n",
              "  content: \"\";\n",
              "  width: 100%;\n",
              "  border-bottom: 2px solid var(--sklearn-color-text-on-default-background);\n",
              "  flex-grow: 1;\n",
              "}\n",
              "\n",
              "#sk-container-id-2 div.sk-parallel {\n",
              "  display: flex;\n",
              "  align-items: stretch;\n",
              "  justify-content: center;\n",
              "  background-color: var(--sklearn-color-background);\n",
              "  position: relative;\n",
              "}\n",
              "\n",
              "#sk-container-id-2 div.sk-parallel-item {\n",
              "  display: flex;\n",
              "  flex-direction: column;\n",
              "}\n",
              "\n",
              "#sk-container-id-2 div.sk-parallel-item:first-child::after {\n",
              "  align-self: flex-end;\n",
              "  width: 50%;\n",
              "}\n",
              "\n",
              "#sk-container-id-2 div.sk-parallel-item:last-child::after {\n",
              "  align-self: flex-start;\n",
              "  width: 50%;\n",
              "}\n",
              "\n",
              "#sk-container-id-2 div.sk-parallel-item:only-child::after {\n",
              "  width: 0;\n",
              "}\n",
              "\n",
              "/* Serial-specific style estimator block */\n",
              "\n",
              "#sk-container-id-2 div.sk-serial {\n",
              "  display: flex;\n",
              "  flex-direction: column;\n",
              "  align-items: center;\n",
              "  background-color: var(--sklearn-color-background);\n",
              "  padding-right: 1em;\n",
              "  padding-left: 1em;\n",
              "}\n",
              "\n",
              "\n",
              "/* Toggleable style: style used for estimator/Pipeline/ColumnTransformer box that is\n",
              "clickable and can be expanded/collapsed.\n",
              "- Pipeline and ColumnTransformer use this feature and define the default style\n",
              "- Estimators will overwrite some part of the style using the `sk-estimator` class\n",
              "*/\n",
              "\n",
              "/* Pipeline and ColumnTransformer style (default) */\n",
              "\n",
              "#sk-container-id-2 div.sk-toggleable {\n",
              "  /* Default theme specific background. It is overwritten whether we have a\n",
              "  specific estimator or a Pipeline/ColumnTransformer */\n",
              "  background-color: var(--sklearn-color-background);\n",
              "}\n",
              "\n",
              "/* Toggleable label */\n",
              "#sk-container-id-2 label.sk-toggleable__label {\n",
              "  cursor: pointer;\n",
              "  display: flex;\n",
              "  width: 100%;\n",
              "  margin-bottom: 0;\n",
              "  padding: 0.5em;\n",
              "  box-sizing: border-box;\n",
              "  text-align: center;\n",
              "  align-items: start;\n",
              "  justify-content: space-between;\n",
              "  gap: 0.5em;\n",
              "}\n",
              "\n",
              "#sk-container-id-2 label.sk-toggleable__label .caption {\n",
              "  font-size: 0.6rem;\n",
              "  font-weight: lighter;\n",
              "  color: var(--sklearn-color-text-muted);\n",
              "}\n",
              "\n",
              "#sk-container-id-2 label.sk-toggleable__label-arrow:before {\n",
              "  /* Arrow on the left of the label */\n",
              "  content: \"▸\";\n",
              "  float: left;\n",
              "  margin-right: 0.25em;\n",
              "  color: var(--sklearn-color-icon);\n",
              "}\n",
              "\n",
              "#sk-container-id-2 label.sk-toggleable__label-arrow:hover:before {\n",
              "  color: var(--sklearn-color-text);\n",
              "}\n",
              "\n",
              "/* Toggleable content - dropdown */\n",
              "\n",
              "#sk-container-id-2 div.sk-toggleable__content {\n",
              "  max-height: 0;\n",
              "  max-width: 0;\n",
              "  overflow: hidden;\n",
              "  text-align: left;\n",
              "  /* unfitted */\n",
              "  background-color: var(--sklearn-color-unfitted-level-0);\n",
              "}\n",
              "\n",
              "#sk-container-id-2 div.sk-toggleable__content.fitted {\n",
              "  /* fitted */\n",
              "  background-color: var(--sklearn-color-fitted-level-0);\n",
              "}\n",
              "\n",
              "#sk-container-id-2 div.sk-toggleable__content pre {\n",
              "  margin: 0.2em;\n",
              "  border-radius: 0.25em;\n",
              "  color: var(--sklearn-color-text);\n",
              "  /* unfitted */\n",
              "  background-color: var(--sklearn-color-unfitted-level-0);\n",
              "}\n",
              "\n",
              "#sk-container-id-2 div.sk-toggleable__content.fitted pre {\n",
              "  /* unfitted */\n",
              "  background-color: var(--sklearn-color-fitted-level-0);\n",
              "}\n",
              "\n",
              "#sk-container-id-2 input.sk-toggleable__control:checked~div.sk-toggleable__content {\n",
              "  /* Expand drop-down */\n",
              "  max-height: 200px;\n",
              "  max-width: 100%;\n",
              "  overflow: auto;\n",
              "}\n",
              "\n",
              "#sk-container-id-2 input.sk-toggleable__control:checked~label.sk-toggleable__label-arrow:before {\n",
              "  content: \"▾\";\n",
              "}\n",
              "\n",
              "/* Pipeline/ColumnTransformer-specific style */\n",
              "\n",
              "#sk-container-id-2 div.sk-label input.sk-toggleable__control:checked~label.sk-toggleable__label {\n",
              "  color: var(--sklearn-color-text);\n",
              "  background-color: var(--sklearn-color-unfitted-level-2);\n",
              "}\n",
              "\n",
              "#sk-container-id-2 div.sk-label.fitted input.sk-toggleable__control:checked~label.sk-toggleable__label {\n",
              "  background-color: var(--sklearn-color-fitted-level-2);\n",
              "}\n",
              "\n",
              "/* Estimator-specific style */\n",
              "\n",
              "/* Colorize estimator box */\n",
              "#sk-container-id-2 div.sk-estimator input.sk-toggleable__control:checked~label.sk-toggleable__label {\n",
              "  /* unfitted */\n",
              "  background-color: var(--sklearn-color-unfitted-level-2);\n",
              "}\n",
              "\n",
              "#sk-container-id-2 div.sk-estimator.fitted input.sk-toggleable__control:checked~label.sk-toggleable__label {\n",
              "  /* fitted */\n",
              "  background-color: var(--sklearn-color-fitted-level-2);\n",
              "}\n",
              "\n",
              "#sk-container-id-2 div.sk-label label.sk-toggleable__label,\n",
              "#sk-container-id-2 div.sk-label label {\n",
              "  /* The background is the default theme color */\n",
              "  color: var(--sklearn-color-text-on-default-background);\n",
              "}\n",
              "\n",
              "/* On hover, darken the color of the background */\n",
              "#sk-container-id-2 div.sk-label:hover label.sk-toggleable__label {\n",
              "  color: var(--sklearn-color-text);\n",
              "  background-color: var(--sklearn-color-unfitted-level-2);\n",
              "}\n",
              "\n",
              "/* Label box, darken color on hover, fitted */\n",
              "#sk-container-id-2 div.sk-label.fitted:hover label.sk-toggleable__label.fitted {\n",
              "  color: var(--sklearn-color-text);\n",
              "  background-color: var(--sklearn-color-fitted-level-2);\n",
              "}\n",
              "\n",
              "/* Estimator label */\n",
              "\n",
              "#sk-container-id-2 div.sk-label label {\n",
              "  font-family: monospace;\n",
              "  font-weight: bold;\n",
              "  display: inline-block;\n",
              "  line-height: 1.2em;\n",
              "}\n",
              "\n",
              "#sk-container-id-2 div.sk-label-container {\n",
              "  text-align: center;\n",
              "}\n",
              "\n",
              "/* Estimator-specific */\n",
              "#sk-container-id-2 div.sk-estimator {\n",
              "  font-family: monospace;\n",
              "  border: 1px dotted var(--sklearn-color-border-box);\n",
              "  border-radius: 0.25em;\n",
              "  box-sizing: border-box;\n",
              "  margin-bottom: 0.5em;\n",
              "  /* unfitted */\n",
              "  background-color: var(--sklearn-color-unfitted-level-0);\n",
              "}\n",
              "\n",
              "#sk-container-id-2 div.sk-estimator.fitted {\n",
              "  /* fitted */\n",
              "  background-color: var(--sklearn-color-fitted-level-0);\n",
              "}\n",
              "\n",
              "/* on hover */\n",
              "#sk-container-id-2 div.sk-estimator:hover {\n",
              "  /* unfitted */\n",
              "  background-color: var(--sklearn-color-unfitted-level-2);\n",
              "}\n",
              "\n",
              "#sk-container-id-2 div.sk-estimator.fitted:hover {\n",
              "  /* fitted */\n",
              "  background-color: var(--sklearn-color-fitted-level-2);\n",
              "}\n",
              "\n",
              "/* Specification for estimator info (e.g. \"i\" and \"?\") */\n",
              "\n",
              "/* Common style for \"i\" and \"?\" */\n",
              "\n",
              ".sk-estimator-doc-link,\n",
              "a:link.sk-estimator-doc-link,\n",
              "a:visited.sk-estimator-doc-link {\n",
              "  float: right;\n",
              "  font-size: smaller;\n",
              "  line-height: 1em;\n",
              "  font-family: monospace;\n",
              "  background-color: var(--sklearn-color-background);\n",
              "  border-radius: 1em;\n",
              "  height: 1em;\n",
              "  width: 1em;\n",
              "  text-decoration: none !important;\n",
              "  margin-left: 0.5em;\n",
              "  text-align: center;\n",
              "  /* unfitted */\n",
              "  border: var(--sklearn-color-unfitted-level-1) 1pt solid;\n",
              "  color: var(--sklearn-color-unfitted-level-1);\n",
              "}\n",
              "\n",
              ".sk-estimator-doc-link.fitted,\n",
              "a:link.sk-estimator-doc-link.fitted,\n",
              "a:visited.sk-estimator-doc-link.fitted {\n",
              "  /* fitted */\n",
              "  border: var(--sklearn-color-fitted-level-1) 1pt solid;\n",
              "  color: var(--sklearn-color-fitted-level-1);\n",
              "}\n",
              "\n",
              "/* On hover */\n",
              "div.sk-estimator:hover .sk-estimator-doc-link:hover,\n",
              ".sk-estimator-doc-link:hover,\n",
              "div.sk-label-container:hover .sk-estimator-doc-link:hover,\n",
              ".sk-estimator-doc-link:hover {\n",
              "  /* unfitted */\n",
              "  background-color: var(--sklearn-color-unfitted-level-3);\n",
              "  color: var(--sklearn-color-background);\n",
              "  text-decoration: none;\n",
              "}\n",
              "\n",
              "div.sk-estimator.fitted:hover .sk-estimator-doc-link.fitted:hover,\n",
              ".sk-estimator-doc-link.fitted:hover,\n",
              "div.sk-label-container:hover .sk-estimator-doc-link.fitted:hover,\n",
              ".sk-estimator-doc-link.fitted:hover {\n",
              "  /* fitted */\n",
              "  background-color: var(--sklearn-color-fitted-level-3);\n",
              "  color: var(--sklearn-color-background);\n",
              "  text-decoration: none;\n",
              "}\n",
              "\n",
              "/* Span, style for the box shown on hovering the info icon */\n",
              ".sk-estimator-doc-link span {\n",
              "  display: none;\n",
              "  z-index: 9999;\n",
              "  position: relative;\n",
              "  font-weight: normal;\n",
              "  right: .2ex;\n",
              "  padding: .5ex;\n",
              "  margin: .5ex;\n",
              "  width: min-content;\n",
              "  min-width: 20ex;\n",
              "  max-width: 50ex;\n",
              "  color: var(--sklearn-color-text);\n",
              "  box-shadow: 2pt 2pt 4pt #999;\n",
              "  /* unfitted */\n",
              "  background: var(--sklearn-color-unfitted-level-0);\n",
              "  border: .5pt solid var(--sklearn-color-unfitted-level-3);\n",
              "}\n",
              "\n",
              ".sk-estimator-doc-link.fitted span {\n",
              "  /* fitted */\n",
              "  background: var(--sklearn-color-fitted-level-0);\n",
              "  border: var(--sklearn-color-fitted-level-3);\n",
              "}\n",
              "\n",
              ".sk-estimator-doc-link:hover span {\n",
              "  display: block;\n",
              "}\n",
              "\n",
              "/* \"?\"-specific style due to the `<a>` HTML tag */\n",
              "\n",
              "#sk-container-id-2 a.estimator_doc_link {\n",
              "  float: right;\n",
              "  font-size: 1rem;\n",
              "  line-height: 1em;\n",
              "  font-family: monospace;\n",
              "  background-color: var(--sklearn-color-background);\n",
              "  border-radius: 1rem;\n",
              "  height: 1rem;\n",
              "  width: 1rem;\n",
              "  text-decoration: none;\n",
              "  /* unfitted */\n",
              "  color: var(--sklearn-color-unfitted-level-1);\n",
              "  border: var(--sklearn-color-unfitted-level-1) 1pt solid;\n",
              "}\n",
              "\n",
              "#sk-container-id-2 a.estimator_doc_link.fitted {\n",
              "  /* fitted */\n",
              "  border: var(--sklearn-color-fitted-level-1) 1pt solid;\n",
              "  color: var(--sklearn-color-fitted-level-1);\n",
              "}\n",
              "\n",
              "/* On hover */\n",
              "#sk-container-id-2 a.estimator_doc_link:hover {\n",
              "  /* unfitted */\n",
              "  background-color: var(--sklearn-color-unfitted-level-3);\n",
              "  color: var(--sklearn-color-background);\n",
              "  text-decoration: none;\n",
              "}\n",
              "\n",
              "#sk-container-id-2 a.estimator_doc_link.fitted:hover {\n",
              "  /* fitted */\n",
              "  background-color: var(--sklearn-color-fitted-level-3);\n",
              "}\n",
              "</style><div id=\"sk-container-id-2\" class=\"sk-top-container\"><div class=\"sk-text-repr-fallback\"><pre>TfidfVectorizer()</pre><b>In a Jupyter environment, please rerun this cell to show the HTML representation or trust the notebook. <br />On GitHub, the HTML representation is unable to render, please try loading this page with nbviewer.org.</b></div><div class=\"sk-container\" hidden><div class=\"sk-item\"><div class=\"sk-estimator fitted sk-toggleable\"><input class=\"sk-toggleable__control sk-hidden--visually\" id=\"sk-estimator-id-2\" type=\"checkbox\" checked><label for=\"sk-estimator-id-2\" class=\"sk-toggleable__label fitted sk-toggleable__label-arrow\"><div><div>TfidfVectorizer</div></div><div><a class=\"sk-estimator-doc-link fitted\" rel=\"noreferrer\" target=\"_blank\" href=\"https://scikit-learn.org/1.6/modules/generated/sklearn.feature_extraction.text.TfidfVectorizer.html\">?<span>Documentation for TfidfVectorizer</span></a><span class=\"sk-estimator-doc-link fitted\">i<span>Fitted</span></span></div></label><div class=\"sk-toggleable__content fitted\"><pre>TfidfVectorizer()</pre></div> </div></div></div></div>"
            ],
            "text/plain": [
              "TfidfVectorizer()"
            ]
          },
          "execution_count": 48,
          "metadata": {},
          "output_type": "execute_result"
        }
      ],
      "source": [
        "load_tfidf"
      ]
    },
    {
      "cell_type": "code",
      "execution_count": null,
      "metadata": {
        "id": "DP3yhi9s0bX1",
        "outputId": "9127bcbe-c80f-466a-dfb6-fdc521da9351"
      },
      "outputs": [
        {
          "data": {
            "text/plain": [
              "array(['TRAVEL', 'WELLNESS', 'ENTERTAINMENT', ..., 'POLITICS', 'WELLNESS',\n",
              "       'ENTERTAINMENT'], shape=(4023,), dtype=object)"
            ]
          },
          "execution_count": 49,
          "metadata": {},
          "output_type": "execute_result"
        }
      ],
      "source": [
        "y_pred_load = load_linsvc.predict(x_test_vec)\n",
        "y_pred_load"
      ]
    },
    {
      "cell_type": "code",
      "execution_count": null,
      "metadata": {
        "id": "O8yrVg5D0bX1",
        "outputId": "e39c20cc-3688-4415-fd5a-fb71726492dd"
      },
      "outputs": [
        {
          "name": "stdout",
          "output_type": "stream",
          "text": [
            "                precision    recall  f1-score   support\n",
            "\n",
            " ENTERTAINMENT       0.85      0.86      0.86       967\n",
            "      POLITICS       0.88      0.85      0.86       955\n",
            "STYLE & BEAUTY       0.85      0.66      0.74       186\n",
            "        TRAVEL       0.87      0.85      0.86      1001\n",
            "      WELLNESS       0.81      0.88      0.84       914\n",
            "\n",
            "      accuracy                           0.85      4023\n",
            "     macro avg       0.85      0.82      0.83      4023\n",
            "  weighted avg       0.85      0.85      0.85      4023\n",
            "\n"
          ]
        }
      ],
      "source": [
        "print(classification_report(y_test, y_pred))"
      ]
    },
    {
      "cell_type": "markdown",
      "metadata": {
        "id": "kCdJQ8SJ0bX2"
      },
      "source": [
        "<br>\n",
        "<h1 style=\"text-align: center; color: red\"><b>8. Model Deployment on Streamlit<b></h1>\n",
        "<br>"
      ]
    },
    {
      "cell_type": "markdown",
      "metadata": {
        "id": "ty99ki2t0bX2"
      },
      "source": [
        "<br>\n",
        "\n",
        "<h2 style=\"text-align: center;\"><b>Installing Streamlit</b></h2>\n",
        "\n",
        "<br>"
      ]
    },
    {
      "cell_type": "code",
      "source": [
        "import streamlit as st"
      ],
      "metadata": {
        "id": "c7J1yClh1S15"
      },
      "execution_count": null,
      "outputs": []
    },
    {
      "cell_type": "code",
      "execution_count": null,
      "metadata": {
        "id": "HezI1D680bX2"
      },
      "outputs": [],
      "source": []
    },
    {
      "cell_type": "code",
      "execution_count": null,
      "metadata": {
        "id": "caOs17Y20bX2"
      },
      "outputs": [],
      "source": []
    },
    {
      "cell_type": "code",
      "execution_count": null,
      "metadata": {
        "id": "pkRKJJs_0bX2"
      },
      "outputs": [],
      "source": []
    },
    {
      "cell_type": "code",
      "execution_count": null,
      "metadata": {
        "id": "AfGwZMRg0bX3"
      },
      "outputs": [],
      "source": []
    },
    {
      "cell_type": "code",
      "execution_count": null,
      "metadata": {
        "id": "Y42bPOQ00bX3"
      },
      "outputs": [],
      "source": []
    }
  ],
  "metadata": {
    "colab": {
      "provenance": []
    },
    "kernelspec": {
      "display_name": "Python (tf_k_env)",
      "language": "python",
      "name": "tf_k_env"
    },
    "language_info": {
      "codemirror_mode": {
        "name": "ipython",
        "version": 3
      },
      "file_extension": ".py",
      "mimetype": "text/x-python",
      "name": "python",
      "nbconvert_exporter": "python",
      "pygments_lexer": "ipython3",
      "version": "3.11.11"
    }
  },
  "nbformat": 4,
  "nbformat_minor": 0
}